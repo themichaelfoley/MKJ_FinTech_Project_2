{
 "cells": [
  {
   "cell_type": "markdown",
   "id": "91ca6aa4-d7c1-4709-9242-4bf2e75f0b4b",
   "metadata": {},
   "source": [
    "Algo Trading Notebook"
   ]
  },
  {
   "cell_type": "code",
   "execution_count": null,
   "id": "59200ec0",
   "metadata": {},
   "outputs": [],
   "source": []
  }
 ],
 "metadata": {
  "kernelspec": {
   "display_name": "Python 3 (ipykernel)",
   "language": "python",
   "name": "python3"
  },
  "language_info": {
   "codemirror_mode": {
    "name": "ipython",
    "version": 3
   },
   "file_extension": ".py",
   "mimetype": "text/x-python",
   "name": "python",
   "nbconvert_exporter": "python",
   "pygments_lexer": "ipython3",
   "version": "3.7.13"
  }
 },
 "nbformat": 4,
 "nbformat_minor": 5
}
