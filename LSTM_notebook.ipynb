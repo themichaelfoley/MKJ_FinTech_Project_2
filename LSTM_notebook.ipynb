{ hello world! 
 "cells": [
  {
   "cell_type": "markdown",
   "id": "8eac4324-bcb0-483f-9fb6-10819de708b1",
   "metadata": {},
   "source": [
    "LSTM Notebook"
   ]
  },
  {
   "cell_type": "code",
   "execution_count": null,
   "id": "9e04d982",
   "metadata": {},
   "outputs": [],
   "source": []
  }
 ],
 "metadata": {
  "kernelspec": {
   "display_name": "Python 3 (ipykernel)",
   "language": "python",
   "name": "python3"
  },
  "language_info": {
   "codemirror_mode": {
    "name": "ipython",
    "version": 3
   },
   "file_extension": ".py",
   "mimetype": "text/x-python",
   "name": "python",
   "nbconvert_exporter": "python",
   "pygments_lexer": "ipython3",
   "version": "3.7.13"
  }
 },
 "nbformat": 4,
 "nbformat_minor": 5
}
