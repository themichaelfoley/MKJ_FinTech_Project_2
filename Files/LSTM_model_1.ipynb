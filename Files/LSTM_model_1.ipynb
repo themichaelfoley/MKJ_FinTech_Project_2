{
 "cells": [
  {
   "cell_type": "markdown",
   "metadata": {},
   "source": [
    "### Data Preparation & Loading"
   ]
  },
  {
   "cell_type": "code",
   "execution_count": 18,
   "metadata": {},
   "outputs": [],
   "source": [
    "# Initial imports\n",
    "import numpy as np\n",
    "import pandas as pd\n",
    "from pathlib import Path\n",
    "\n",
    "%matplotlib inline"
   ]
  },
  {
   "cell_type": "code",
   "execution_count": 19,
   "metadata": {},
   "outputs": [],
   "source": [
    "# Set the random seed for reproducibility\n",
    "from numpy.random import seed\n",
    "\n",
    "seed(1)\n",
    "from tensorflow import random\n",
    "\n",
    "random.set_seed(2)"
   ]
  },
  {
   "cell_type": "code",
   "execution_count": 20,
   "metadata": {},
   "outputs": [
    {
     "data": {
      "text/html": [
       "<div>\n",
       "<style scoped>\n",
       "    .dataframe tbody tr th:only-of-type {\n",
       "        vertical-align: middle;\n",
       "    }\n",
       "\n",
       "    .dataframe tbody tr th {\n",
       "        vertical-align: top;\n",
       "    }\n",
       "\n",
       "    .dataframe thead th {\n",
       "        text-align: right;\n",
       "    }\n",
       "</style>\n",
       "<table border=\"1\" class=\"dataframe\">\n",
       "  <thead>\n",
       "    <tr style=\"text-align: right;\">\n",
       "      <th></th>\n",
       "      <th>open</th>\n",
       "      <th>high</th>\n",
       "      <th>low</th>\n",
       "      <th>close</th>\n",
       "      <th>volume</th>\n",
       "      <th>trade_count</th>\n",
       "      <th>vwap</th>\n",
       "      <th>symbol</th>\n",
       "    </tr>\n",
       "    <tr>\n",
       "      <th>date</th>\n",
       "      <th></th>\n",
       "      <th></th>\n",
       "      <th></th>\n",
       "      <th></th>\n",
       "      <th></th>\n",
       "      <th></th>\n",
       "      <th></th>\n",
       "      <th></th>\n",
       "    </tr>\n",
       "  </thead>\n",
       "  <tbody>\n",
       "    <tr>\n",
       "      <th>2019-04-22</th>\n",
       "      <td>89.69</td>\n",
       "      <td>90.470</td>\n",
       "      <td>89.58</td>\n",
       "      <td>89.60</td>\n",
       "      <td>970834</td>\n",
       "      <td>9479</td>\n",
       "      <td>90.000447</td>\n",
       "      <td>BUD</td>\n",
       "    </tr>\n",
       "    <tr>\n",
       "      <th>2019-04-23</th>\n",
       "      <td>88.56</td>\n",
       "      <td>89.790</td>\n",
       "      <td>88.50</td>\n",
       "      <td>89.25</td>\n",
       "      <td>755451</td>\n",
       "      <td>7907</td>\n",
       "      <td>89.242818</td>\n",
       "      <td>BUD</td>\n",
       "    </tr>\n",
       "    <tr>\n",
       "      <th>2019-04-24</th>\n",
       "      <td>89.02</td>\n",
       "      <td>89.130</td>\n",
       "      <td>87.82</td>\n",
       "      <td>88.21</td>\n",
       "      <td>1038366</td>\n",
       "      <td>11509</td>\n",
       "      <td>88.324096</td>\n",
       "      <td>BUD</td>\n",
       "    </tr>\n",
       "    <tr>\n",
       "      <th>2019-04-25</th>\n",
       "      <td>86.89</td>\n",
       "      <td>87.020</td>\n",
       "      <td>86.00</td>\n",
       "      <td>86.64</td>\n",
       "      <td>1341678</td>\n",
       "      <td>13124</td>\n",
       "      <td>86.467163</td>\n",
       "      <td>BUD</td>\n",
       "    </tr>\n",
       "    <tr>\n",
       "      <th>2019-04-26</th>\n",
       "      <td>87.38</td>\n",
       "      <td>87.625</td>\n",
       "      <td>86.83</td>\n",
       "      <td>87.58</td>\n",
       "      <td>920430</td>\n",
       "      <td>9005</td>\n",
       "      <td>87.292918</td>\n",
       "      <td>BUD</td>\n",
       "    </tr>\n",
       "  </tbody>\n",
       "</table>\n",
       "</div>"
      ],
      "text/plain": [
       "             open    high    low  close   volume  trade_count       vwap  \\\n",
       "date                                                                       \n",
       "2019-04-22  89.69  90.470  89.58  89.60   970834         9479  90.000447   \n",
       "2019-04-23  88.56  89.790  88.50  89.25   755451         7907  89.242818   \n",
       "2019-04-24  89.02  89.130  87.82  88.21  1038366        11509  88.324096   \n",
       "2019-04-25  86.89  87.020  86.00  86.64  1341678        13124  86.467163   \n",
       "2019-04-26  87.38  87.625  86.83  87.58   920430         9005  87.292918   \n",
       "\n",
       "           symbol  \n",
       "date               \n",
       "2019-04-22    BUD  \n",
       "2019-04-23    BUD  \n",
       "2019-04-24    BUD  \n",
       "2019-04-25    BUD  \n",
       "2019-04-26    BUD  "
      ]
     },
     "execution_count": 20,
     "metadata": {},
     "output_type": "execute_result"
    }
   ],
   "source": [
    "# Load the stocks data\n",
    "df_stocks = pd.read_csv(\n",
    "    Path(\"../Files/api_data.csv\"),\n",
    "    index_col=\"date\",\n",
    "    infer_datetime_format=True,\n",
    "    parse_dates=True,\n",
    ")\n",
    "df_stocks.head()"
   ]
  },
  {
   "cell_type": "code",
   "execution_count": 21,
   "metadata": {},
   "outputs": [
    {
     "data": {
      "text/html": [
       "<div>\n",
       "<style scoped>\n",
       "    .dataframe tbody tr th:only-of-type {\n",
       "        vertical-align: middle;\n",
       "    }\n",
       "\n",
       "    .dataframe tbody tr th {\n",
       "        vertical-align: top;\n",
       "    }\n",
       "\n",
       "    .dataframe thead tr th {\n",
       "        text-align: left;\n",
       "    }\n",
       "\n",
       "    .dataframe thead tr:last-of-type th {\n",
       "        text-align: right;\n",
       "    }\n",
       "</style>\n",
       "<table border=\"1\" class=\"dataframe\">\n",
       "  <thead>\n",
       "    <tr>\n",
       "      <th></th>\n",
       "      <th colspan=\"11\" halign=\"left\">close</th>\n",
       "    </tr>\n",
       "    <tr>\n",
       "      <th>symbol</th>\n",
       "      <th>BUD</th>\n",
       "      <th>CGC</th>\n",
       "      <th>CRON</th>\n",
       "      <th>DEO</th>\n",
       "      <th>JAZZ</th>\n",
       "      <th>SAM</th>\n",
       "      <th>SPY</th>\n",
       "      <th>STZ</th>\n",
       "      <th>TAP</th>\n",
       "      <th>TLRY</th>\n",
       "      <th>VFF</th>\n",
       "    </tr>\n",
       "    <tr>\n",
       "      <th>date</th>\n",
       "      <th></th>\n",
       "      <th></th>\n",
       "      <th></th>\n",
       "      <th></th>\n",
       "      <th></th>\n",
       "      <th></th>\n",
       "      <th></th>\n",
       "      <th></th>\n",
       "      <th></th>\n",
       "      <th></th>\n",
       "      <th></th>\n",
       "    </tr>\n",
       "  </thead>\n",
       "  <tbody>\n",
       "    <tr>\n",
       "      <th>2019-04-22</th>\n",
       "      <td>89.60</td>\n",
       "      <td>48.25</td>\n",
       "      <td>16.86</td>\n",
       "      <td>162.58</td>\n",
       "      <td>125.97</td>\n",
       "      <td>271.34</td>\n",
       "      <td>290.27</td>\n",
       "      <td>205.46</td>\n",
       "      <td>61.16</td>\n",
       "      <td>51.82</td>\n",
       "      <td>11.56</td>\n",
       "    </tr>\n",
       "    <tr>\n",
       "      <th>2019-04-23</th>\n",
       "      <td>89.25</td>\n",
       "      <td>47.41</td>\n",
       "      <td>16.28</td>\n",
       "      <td>163.80</td>\n",
       "      <td>129.78</td>\n",
       "      <td>277.73</td>\n",
       "      <td>292.88</td>\n",
       "      <td>207.48</td>\n",
       "      <td>61.28</td>\n",
       "      <td>50.26</td>\n",
       "      <td>11.08</td>\n",
       "    </tr>\n",
       "    <tr>\n",
       "      <th>2019-04-24</th>\n",
       "      <td>88.21</td>\n",
       "      <td>48.37</td>\n",
       "      <td>16.59</td>\n",
       "      <td>164.13</td>\n",
       "      <td>129.42</td>\n",
       "      <td>276.43</td>\n",
       "      <td>292.23</td>\n",
       "      <td>210.14</td>\n",
       "      <td>62.51</td>\n",
       "      <td>51.30</td>\n",
       "      <td>12.29</td>\n",
       "    </tr>\n",
       "    <tr>\n",
       "      <th>2019-04-25</th>\n",
       "      <td>86.64</td>\n",
       "      <td>48.20</td>\n",
       "      <td>16.52</td>\n",
       "      <td>164.17</td>\n",
       "      <td>128.53</td>\n",
       "      <td>300.00</td>\n",
       "      <td>292.05</td>\n",
       "      <td>212.16</td>\n",
       "      <td>62.80</td>\n",
       "      <td>51.27</td>\n",
       "      <td>11.62</td>\n",
       "    </tr>\n",
       "    <tr>\n",
       "      <th>2019-04-26</th>\n",
       "      <td>87.58</td>\n",
       "      <td>49.91</td>\n",
       "      <td>17.16</td>\n",
       "      <td>166.48</td>\n",
       "      <td>130.99</td>\n",
       "      <td>304.56</td>\n",
       "      <td>293.41</td>\n",
       "      <td>212.16</td>\n",
       "      <td>63.83</td>\n",
       "      <td>53.15</td>\n",
       "      <td>11.57</td>\n",
       "    </tr>\n",
       "  </tbody>\n",
       "</table>\n",
       "</div>"
      ],
      "text/plain": [
       "            close                                                        \\\n",
       "symbol        BUD    CGC   CRON     DEO    JAZZ     SAM     SPY     STZ   \n",
       "date                                                                      \n",
       "2019-04-22  89.60  48.25  16.86  162.58  125.97  271.34  290.27  205.46   \n",
       "2019-04-23  89.25  47.41  16.28  163.80  129.78  277.73  292.88  207.48   \n",
       "2019-04-24  88.21  48.37  16.59  164.13  129.42  276.43  292.23  210.14   \n",
       "2019-04-25  86.64  48.20  16.52  164.17  128.53  300.00  292.05  212.16   \n",
       "2019-04-26  87.58  49.91  17.16  166.48  130.99  304.56  293.41  212.16   \n",
       "\n",
       "                                 \n",
       "symbol        TAP   TLRY    VFF  \n",
       "date                             \n",
       "2019-04-22  61.16  51.82  11.56  \n",
       "2019-04-23  61.28  50.26  11.08  \n",
       "2019-04-24  62.51  51.30  12.29  \n",
       "2019-04-25  62.80  51.27  11.62  \n",
       "2019-04-26  63.83  53.15  11.57  "
      ]
     },
     "execution_count": 21,
     "metadata": {},
     "output_type": "execute_result"
    }
   ],
   "source": [
    "# Isolating the closing data using a pivot table\n",
    "all_close_prices = df_stocks.pivot(values=[\"close\"], columns= \"symbol\")\n",
    "all_close_prices.head()"
   ]
  },
  {
   "cell_type": "markdown",
   "metadata": {},
   "source": [
    "### Creating input feature vectors \"X\" and the target vector \"y\""
   ]
  },
  {
   "cell_type": "code",
   "execution_count": 22,
   "metadata": {},
   "outputs": [],
   "source": [
    "#The function will have the following parameters: df_stocks, window, feature_col_number, and target_col_number. \n",
    "\n",
    "def window_data(df_stocks, window, feature_col_number, target_col_number):\n",
    "\n",
    "    X = []\n",
    "    y = []\n",
    "    for i in range(len(df_stocks) - window):\n",
    "        features = df_stocks.iloc[i : (i + window), feature_col_number]\n",
    "        target = df_stocks.iloc[(i + window), target_col_number]\n",
    "        X.append(features)\n",
    "        y.append(target)\n",
    "    return np.array(X), np.array(y).reshape(-1,1)"
   ]
  },
  {
   "cell_type": "code",
   "execution_count": 23,
   "metadata": {},
   "outputs": [
    {
     "name": "stdout",
     "output_type": "stream",
     "text": [
      "X sample values:\n",
      "[[[ 89.6  162.58 271.34 290.27 205.46  61.16]\n",
      "  [ 89.25 163.8  277.73 292.88 207.48  61.28]]\n",
      "\n",
      " [[ 89.25 163.8  277.73 292.88 207.48  61.28]\n",
      "  [ 88.21 164.13 276.43 292.23 210.14  62.51]]\n",
      "\n",
      " [[ 88.21 164.13 276.43 292.23 210.14  62.51]\n",
      "  [ 86.64 164.17 300.   292.05 212.16  62.8 ]]\n",
      "\n",
      " [[ 86.64 164.17 300.   292.05 212.16  62.8 ]\n",
      "  [ 87.58 166.48 304.56 293.41 212.16  63.83]]\n",
      "\n",
      " [[ 87.58 166.48 304.56 293.41 212.16  63.83]\n",
      "  [ 88.01 166.14 304.09 293.87 212.54  63.88]]] \n",
      "\n",
      "y sample values:\n",
      "[[292.23]\n",
      " [292.05]\n",
      " [293.41]\n",
      " [293.87]\n",
      " [294.02]]\n"
     ]
    }
   ],
   "source": [
    "window_size = 2\n",
    "\n",
    "feature_column = [0,3,5,6,7,8]\n",
    "target_column = 6\n",
    "X, y = window_data(all_close_prices[\"close\"], window_size, feature_column, target_column)\n",
    "print (f\"X sample values:\\n{X[:5]} \\n\")\n",
    "print (f\"y sample values:\\n{y[:5]}\")"
   ]
  },
  {
   "cell_type": "markdown",
   "metadata": {},
   "source": [
    "### Splitting Data Between Training & Testing Sets "
   ]
  },
  {
   "cell_type": "code",
   "execution_count": 24,
   "metadata": {},
   "outputs": [],
   "source": [
    "# Using 90% of the data for training \n",
    "split = int(0.9 * len(X))\n",
    "X_train = X[: split]\n",
    "X_test = X[split:]\n",
    "y_train = y[: split]\n",
    "y_test = y[split:]"
   ]
  },
  {
   "cell_type": "markdown",
   "metadata": {},
   "source": [
    "### Scaling the Data with MinMaxScaler"
   ]
  },
  {
   "cell_type": "code",
   "execution_count": 25,
   "metadata": {},
   "outputs": [],
   "source": [
    "# Scaling the data before training the LSTM model using MinMaxScaler from sklearn to scale all values\n",
    "from sklearn.preprocessing import MinMaxScaler\n",
    "scaler = MinMaxScaler()\n",
    "#Fit scaler to reshaped X_Train\n",
    "num_instances, num_time_steps, num_features = X_train.shape\n",
    "X_train_reshaped = np.reshape(X_train, newshape=(-1, num_features))\n",
    "scaler.fit(X_train_reshaped)\n",
    "#Scale and reshape X_train to original shape\n",
    "X_train_scaled = scaler.transform(X_train_reshaped)\n",
    "X_train_scaled = np.reshape(X_train_scaled, newshape=(num_instances, num_time_steps, num_features))\n",
    "#Scale and reshape X_test to original shape\n",
    "num_instances, num_time_steps, num_features = X_test.shape\n",
    "X_test_reshaped = np.reshape(X_test, newshape=(-1, num_features))\n",
    "X_test_scaled = scaler.transform(X_test_reshaped)\n",
    "X_test_scaled = np.reshape(X_test_scaled, newshape=(num_instances, num_time_steps, num_features))\n",
    "#Fit scaler to y_train\n",
    "scaler.fit(y_train)\n",
    "#Scale y_train\n",
    "y_train = scaler.transform(y_train)\n",
    "#Scale y_test\n",
    "y_test = scaler.transform(y_test)"
   ]
  },
  {
   "cell_type": "markdown",
   "metadata": {},
   "source": [
    "### Build & Train the LSTM RNN/Defining the LSTM RNN Model Structure"
   ]
  },
  {
   "cell_type": "code",
   "execution_count": 26,
   "metadata": {},
   "outputs": [],
   "source": [
    "# Build and Train LSTM RNN in Keeras and fit it using the training data defined above using Keras.\n",
    " # Import required Keras modules\n",
    "from tensorflow.keras.models import Sequential\n",
    "from tensorflow.keras.layers import LSTM, Dense, Dropout"
   ]
  },
  {
   "cell_type": "code",
   "execution_count": 27,
   "metadata": {},
   "outputs": [],
   "source": [
    "# Define the LSTM RNN model by adding layers\n",
    "# AND using the dropout layer to prevent overfitting. \n",
    "model = Sequential()\n",
    "\n",
    "number_units = 100\n",
    "dropout_fraction = 0.03 #Each epoch will randomly drop 20% of units to prevent overfitting.\n",
    "\n",
    "# Layer 1\n",
    "model.add(LSTM(\n",
    "    units=number_units,\n",
    "    return_sequences=True,\n",
    "    input_shape=(X_train.shape[1], 6))\n",
    "    )\n",
    "model.add(Dropout(dropout_fraction))\n",
    "# Layer 2\n",
    "model.add(LSTM(units=number_units, return_sequences=True))\n",
    "model.add(Dropout(dropout_fraction))\n",
    "# Layer 3\n",
    "model.add(LSTM(units=number_units))\n",
    "model.add(Dropout(dropout_fraction))\n",
    "# Output layer\n",
    "model.add(Dense(1))"
   ]
  },
  {
   "cell_type": "markdown",
   "metadata": {},
   "source": [
    "### Compiling, Summarizing, and Training the Model"
   ]
  },
  {
   "cell_type": "code",
   "execution_count": 28,
   "metadata": {},
   "outputs": [],
   "source": [
    "# Compiling model using adam optimizer and mean_square_error\n",
    "model.compile(optimizer=\"adam\", loss=\"mean_squared_error\")"
   ]
  },
  {
   "cell_type": "code",
   "execution_count": 29,
   "metadata": {},
   "outputs": [
    {
     "name": "stdout",
     "output_type": "stream",
     "text": [
      "Model: \"sequential_1\"\n",
      "_________________________________________________________________\n",
      " Layer (type)                Output Shape              Param #   \n",
      "=================================================================\n",
      " lstm_2 (LSTM)               (None, 2, 100)            42800     \n",
      "                                                                 \n",
      " dropout_2 (Dropout)         (None, 2, 100)            0         \n",
      "                                                                 \n",
      " lstm_3 (LSTM)               (None, 2, 100)            80400     \n",
      "                                                                 \n",
      " dropout_3 (Dropout)         (None, 2, 100)            0         \n",
      "                                                                 \n",
      " lstm_4 (LSTM)               (None, 100)               80400     \n",
      "                                                                 \n",
      " dropout_4 (Dropout)         (None, 100)               0         \n",
      "                                                                 \n",
      " dense_1 (Dense)             (None, 1)                 101       \n",
      "                                                                 \n",
      "=================================================================\n",
      "Total params: 203,701\n",
      "Trainable params: 203,701\n",
      "Non-trainable params: 0\n",
      "_________________________________________________________________\n"
     ]
    }
   ],
   "source": [
    "# Summarizing the model\n",
    "model.summary()"
   ]
  },
  {
   "cell_type": "code",
   "execution_count": 30,
   "metadata": {},
   "outputs": [
    {
     "name": "stdout",
     "output_type": "stream",
     "text": [
      "Epoch 1/50\n",
      "5/5 [==============================] - 31s 1s/step - loss: 0.1781 - val_loss: 0.3575\n",
      "Epoch 2/50\n",
      "5/5 [==============================] - 0s 75ms/step - loss: 0.0262 - val_loss: 0.1613\n",
      "Epoch 3/50\n",
      "5/5 [==============================] - 0s 79ms/step - loss: 0.0578 - val_loss: 0.2066\n",
      "Epoch 4/50\n",
      "5/5 [==============================] - 0s 68ms/step - loss: 0.0453 - val_loss: 0.3408\n",
      "Epoch 5/50\n",
      "5/5 [==============================] - 0s 28ms/step - loss: 0.0331 - val_loss: 0.3949\n",
      "Epoch 6/50\n",
      "5/5 [==============================] - 0s 33ms/step - loss: 0.0292 - val_loss: 0.3450\n",
      "Epoch 7/50\n",
      "5/5 [==============================] - 0s 82ms/step - loss: 0.0263 - val_loss: 0.2815\n",
      "Epoch 8/50\n",
      "5/5 [==============================] - 0s 57ms/step - loss: 0.0273 - val_loss: 0.2561\n",
      "Epoch 9/50\n",
      "5/5 [==============================] - 0s 68ms/step - loss: 0.0279 - val_loss: 0.2683\n",
      "Epoch 10/50\n",
      "5/5 [==============================] - 0s 63ms/step - loss: 0.0271 - val_loss: 0.2796\n",
      "Epoch 11/50\n",
      "5/5 [==============================] - 0s 88ms/step - loss: 0.0255 - val_loss: 0.2750\n",
      "Epoch 12/50\n",
      "5/5 [==============================] - 0s 87ms/step - loss: 0.0247 - val_loss: 0.2618\n",
      "Epoch 13/50\n",
      "5/5 [==============================] - 0s 60ms/step - loss: 0.0244 - val_loss: 0.2504\n",
      "Epoch 14/50\n",
      "5/5 [==============================] - 0s 37ms/step - loss: 0.0249 - val_loss: 0.2453\n",
      "Epoch 15/50\n",
      "5/5 [==============================] - 0s 37ms/step - loss: 0.0237 - val_loss: 0.2304\n",
      "Epoch 16/50\n",
      "5/5 [==============================] - 0s 31ms/step - loss: 0.0231 - val_loss: 0.2248\n",
      "Epoch 17/50\n",
      "5/5 [==============================] - 0s 39ms/step - loss: 0.0219 - val_loss: 0.2125\n",
      "Epoch 18/50\n",
      "5/5 [==============================] - 0s 36ms/step - loss: 0.0216 - val_loss: 0.1993\n",
      "Epoch 19/50\n",
      "5/5 [==============================] - 0s 37ms/step - loss: 0.0217 - val_loss: 0.1922\n",
      "Epoch 20/50\n",
      "5/5 [==============================] - 0s 40ms/step - loss: 0.0209 - val_loss: 0.1805\n",
      "Epoch 21/50\n",
      "5/5 [==============================] - 0s 32ms/step - loss: 0.0191 - val_loss: 0.1608\n",
      "Epoch 22/50\n",
      "5/5 [==============================] - 0s 32ms/step - loss: 0.0186 - val_loss: 0.1475\n",
      "Epoch 23/50\n",
      "5/5 [==============================] - 0s 31ms/step - loss: 0.0173 - val_loss: 0.1322\n",
      "Epoch 24/50\n",
      "5/5 [==============================] - 0s 29ms/step - loss: 0.0170 - val_loss: 0.1152\n",
      "Epoch 25/50\n",
      "5/5 [==============================] - 0s 31ms/step - loss: 0.0170 - val_loss: 0.0995\n",
      "Epoch 26/50\n",
      "5/5 [==============================] - 0s 31ms/step - loss: 0.0156 - val_loss: 0.0822\n",
      "Epoch 27/50\n",
      "5/5 [==============================] - 0s 28ms/step - loss: 0.0159 - val_loss: 0.0759\n",
      "Epoch 28/50\n",
      "5/5 [==============================] - 0s 29ms/step - loss: 0.0154 - val_loss: 0.0635\n",
      "Epoch 29/50\n",
      "5/5 [==============================] - 0s 29ms/step - loss: 0.0143 - val_loss: 0.0563\n",
      "Epoch 30/50\n",
      "5/5 [==============================] - 0s 29ms/step - loss: 0.0143 - val_loss: 0.0412\n",
      "Epoch 31/50\n",
      "5/5 [==============================] - 0s 30ms/step - loss: 0.0140 - val_loss: 0.0464\n",
      "Epoch 32/50\n",
      "5/5 [==============================] - 0s 31ms/step - loss: 0.0143 - val_loss: 0.0349\n",
      "Epoch 33/50\n",
      "5/5 [==============================] - 0s 29ms/step - loss: 0.0149 - val_loss: 0.0451\n",
      "Epoch 34/50\n",
      "5/5 [==============================] - 0s 28ms/step - loss: 0.0140 - val_loss: 0.0328\n",
      "Epoch 35/50\n",
      "5/5 [==============================] - 0s 33ms/step - loss: 0.0156 - val_loss: 0.0444\n",
      "Epoch 36/50\n",
      "5/5 [==============================] - 0s 29ms/step - loss: 0.0140 - val_loss: 0.0262\n",
      "Epoch 37/50\n",
      "5/5 [==============================] - 0s 32ms/step - loss: 0.0160 - val_loss: 0.0555\n",
      "Epoch 38/50\n",
      "5/5 [==============================] - 0s 32ms/step - loss: 0.0130 - val_loss: 0.0301\n",
      "Epoch 39/50\n",
      "5/5 [==============================] - 0s 41ms/step - loss: 0.0143 - val_loss: 0.0488\n",
      "Epoch 40/50\n",
      "5/5 [==============================] - 0s 40ms/step - loss: 0.0118 - val_loss: 0.0387\n",
      "Epoch 41/50\n",
      "5/5 [==============================] - 0s 48ms/step - loss: 0.0135 - val_loss: 0.0460\n",
      "Epoch 42/50\n",
      "5/5 [==============================] - 0s 43ms/step - loss: 0.0117 - val_loss: 0.0401\n",
      "Epoch 43/50\n",
      "5/5 [==============================] - 0s 31ms/step - loss: 0.0124 - val_loss: 0.0397\n",
      "Epoch 44/50\n",
      "5/5 [==============================] - 0s 35ms/step - loss: 0.0116 - val_loss: 0.0346\n",
      "Epoch 45/50\n",
      "5/5 [==============================] - 0s 32ms/step - loss: 0.0122 - val_loss: 0.0349\n",
      "Epoch 46/50\n",
      "5/5 [==============================] - 0s 34ms/step - loss: 0.0117 - val_loss: 0.0332\n",
      "Epoch 47/50\n",
      "5/5 [==============================] - 0s 32ms/step - loss: 0.0111 - val_loss: 0.0361\n",
      "Epoch 48/50\n",
      "5/5 [==============================] - 0s 30ms/step - loss: 0.0118 - val_loss: 0.0338\n",
      "Epoch 49/50\n",
      "5/5 [==============================] - 0s 31ms/step - loss: 0.0125 - val_loss: 0.0321\n",
      "Epoch 50/50\n",
      "5/5 [==============================] - 0s 30ms/step - loss: 0.0128 - val_loss: 0.0294\n"
     ]
    },
    {
     "data": {
      "text/plain": [
       "<keras.callbacks.History at 0x195487c77c8>"
      ]
     },
     "execution_count": 30,
     "metadata": {},
     "output_type": "execute_result"
    }
   ],
   "source": [
    "# Since the model is now defined, it will be fit using 50 epochs. \n",
    "# Batch size will be set at 128. \n",
    "model.fit(X_train, y_train, epochs=50, shuffle=False, batch_size=128, verbose=1, validation_split=.1)"
   ]
  },
  {
   "cell_type": "markdown",
   "metadata": {},
   "source": [
    "### Model Performance"
   ]
  },
  {
   "cell_type": "code",
   "execution_count": 31,
   "metadata": {},
   "outputs": [
    {
     "name": "stdout",
     "output_type": "stream",
     "text": [
      "3/3 [==============================] - 0s 11ms/step - loss: 0.0515\n"
     ]
    },
    {
     "data": {
      "text/plain": [
       "0.0515119843184948"
      ]
     },
     "execution_count": 31,
     "metadata": {},
     "output_type": "execute_result"
    }
   ],
   "source": [
    "# Evaluating the model\n",
    "model.evaluate(X_test, y_test)"
   ]
  },
  {
   "cell_type": "code",
   "execution_count": 32,
   "metadata": {},
   "outputs": [
    {
     "name": "stdout",
     "output_type": "stream",
     "text": [
      "1/1 [==============================] - 3s 3s/step\n"
     ]
    },
    {
     "data": {
      "text/plain": [
       "array([[0.7142609 ],\n",
       "       [0.71134394],\n",
       "       [0.7024848 ],\n",
       "       [0.69171286],\n",
       "       [0.6715573 ],\n",
       "       [0.6705644 ],\n",
       "       [0.6894275 ],\n",
       "       [0.6794971 ],\n",
       "       [0.6709908 ],\n",
       "       [0.6767421 ],\n",
       "       [0.6738226 ],\n",
       "       [0.6432682 ],\n",
       "       [0.62591493],\n",
       "       [0.62328005],\n",
       "       [0.6124649 ],\n",
       "       [0.59048796],\n",
       "       [0.57998633],\n",
       "       [0.582783  ],\n",
       "       [0.58792734],\n",
       "       [0.5969628 ],\n",
       "       [0.60919976],\n",
       "       [0.65343493],\n",
       "       [0.6760532 ],\n",
       "       [0.6802748 ],\n",
       "       [0.6622195 ],\n",
       "       [0.660771  ],\n",
       "       [0.6707928 ],\n",
       "       [0.6676036 ],\n",
       "       [0.67452204],\n",
       "       [0.67145777],\n",
       "       [0.6447858 ],\n",
       "       [0.63202864],\n",
       "       [0.6751654 ],\n",
       "       [0.7234359 ],\n",
       "       [0.71574587],\n",
       "       [0.70305055],\n",
       "       [0.69247234],\n",
       "       [0.67414474],\n",
       "       [0.6668285 ],\n",
       "       [0.68032444],\n",
       "       [0.683882  ],\n",
       "       [0.7068522 ],\n",
       "       [0.7174856 ],\n",
       "       [0.7249839 ],\n",
       "       [0.71657073],\n",
       "       [0.71006227],\n",
       "       [0.6934978 ],\n",
       "       [0.6809672 ],\n",
       "       [0.68970454],\n",
       "       [0.6727848 ],\n",
       "       [0.64461434],\n",
       "       [0.6260985 ],\n",
       "       [0.655694  ],\n",
       "       [0.68435794],\n",
       "       [0.6991245 ],\n",
       "       [0.69686365],\n",
       "       [0.70304966],\n",
       "       [0.7061817 ],\n",
       "       [0.7067928 ],\n",
       "       [0.7016815 ],\n",
       "       [0.6886667 ],\n",
       "       [0.69786966],\n",
       "       [0.6922276 ],\n",
       "       [0.6782211 ],\n",
       "       [0.68066573],\n",
       "       [0.6855612 ],\n",
       "       [0.6978956 ],\n",
       "       [0.6779218 ],\n",
       "       [0.6502413 ],\n",
       "       [0.6193601 ],\n",
       "       [0.57549083],\n",
       "       [0.5386836 ],\n",
       "       [0.53289866],\n",
       "       [0.51842797],\n",
       "       [0.4791904 ],\n",
       "       [0.47689903]], dtype=float32)"
      ]
     },
     "execution_count": 32,
     "metadata": {},
     "output_type": "execute_result"
    }
   ],
   "source": [
    "# Make predictions\n",
    "predicted = model.predict(X_test, batch_size=128)\n",
    "predicted"
   ]
  },
  {
   "cell_type": "markdown",
   "metadata": {},
   "source": [
    "### Plotting Predicted Vs. Real Prices"
   ]
  },
  {
   "cell_type": "code",
   "execution_count": 33,
   "metadata": {},
   "outputs": [
    {
     "data": {
      "text/html": [
       "<div>\n",
       "<style scoped>\n",
       "    .dataframe tbody tr th:only-of-type {\n",
       "        vertical-align: middle;\n",
       "    }\n",
       "\n",
       "    .dataframe tbody tr th {\n",
       "        vertical-align: top;\n",
       "    }\n",
       "\n",
       "    .dataframe thead th {\n",
       "        text-align: right;\n",
       "    }\n",
       "</style>\n",
       "<table border=\"1\" class=\"dataframe\">\n",
       "  <thead>\n",
       "    <tr style=\"text-align: right;\">\n",
       "      <th></th>\n",
       "      <th>Real</th>\n",
       "      <th>Predicted</th>\n",
       "    </tr>\n",
       "    <tr>\n",
       "      <th>date</th>\n",
       "      <th></th>\n",
       "      <th></th>\n",
       "    </tr>\n",
       "  </thead>\n",
       "  <tbody>\n",
       "    <tr>\n",
       "      <th>2021-12-31</th>\n",
       "      <td>0.990099</td>\n",
       "      <td>0.714261</td>\n",
       "    </tr>\n",
       "    <tr>\n",
       "      <th>2022-01-03</th>\n",
       "      <td>1.000904</td>\n",
       "      <td>0.711344</td>\n",
       "    </tr>\n",
       "    <tr>\n",
       "      <th>2022-01-04</th>\n",
       "      <td>1.000275</td>\n",
       "      <td>0.702485</td>\n",
       "    </tr>\n",
       "    <tr>\n",
       "      <th>2022-01-05</th>\n",
       "      <td>0.964248</td>\n",
       "      <td>0.691713</td>\n",
       "    </tr>\n",
       "    <tr>\n",
       "      <th>2022-01-06</th>\n",
       "      <td>0.962519</td>\n",
       "      <td>0.671557</td>\n",
       "    </tr>\n",
       "  </tbody>\n",
       "</table>\n",
       "</div>"
      ],
      "text/plain": [
       "                Real  Predicted\n",
       "date                           \n",
       "2021-12-31  0.990099   0.714261\n",
       "2022-01-03  1.000904   0.711344\n",
       "2022-01-04  1.000275   0.702485\n",
       "2022-01-05  0.964248   0.691713\n",
       "2022-01-06  0.962519   0.671557"
      ]
     },
     "execution_count": 33,
     "metadata": {},
     "output_type": "execute_result"
    }
   ],
   "source": [
    "# Create a DataFrame of Real and Predicted values\n",
    "df_values = pd.DataFrame({\n",
    "    \"Real\": y_test.ravel(),\n",
    "    \"Predicted\": predicted.ravel()\n",
    "    }, index = df_stocks.index[-len(y_test): ])\n",
    "df_values.head()"
   ]
  },
  {
   "cell_type": "code",
   "execution_count": 34,
   "metadata": {},
   "outputs": [
    {
     "data": {
      "text/plain": [
       "<AxesSubplot:xlabel='date'>"
      ]
     },
     "execution_count": 34,
     "metadata": {},
     "output_type": "execute_result"
    },
    {
     "data": {
      "image/png": "[encoded data removed]",
      "text/plain": [
       "<Figure size 432x288 with 1 Axes>"
      ]
     },
     "metadata": {
      "needs_background": "light"
     },
     "output_type": "display_data"
    }
   ],
   "source": [
    "# PLotting real prices vs. predicted\n",
    "df_values.plot(kind =\"line\")"
   ]
  }
 ],
 "metadata": {
  "kernelspec": {
   "display_name": "Python 3.7.11 ('dev')",
   "language": "python",
   "name": "python3"
  },
  "language_info": {
   "codemirror_mode": {
    "name": "ipython",
    "version": 3
   },
   "file_extension": ".py",
   "mimetype": "text/x-python",
   "name": "python",
   "nbconvert_exporter": "python",
   "pygments_lexer": "ipython3",
   "version": "3.7.11"
  },
  "orig_nbformat": 4,
  "vscode": {
   "interpreter": {
    "hash": "03db2e40baedd816844418f8022bfa5231b95c4473a61732e59e58f921326353"
   }
  }
 },
 "nbformat": 4,
 "nbformat_minor": 2
}
