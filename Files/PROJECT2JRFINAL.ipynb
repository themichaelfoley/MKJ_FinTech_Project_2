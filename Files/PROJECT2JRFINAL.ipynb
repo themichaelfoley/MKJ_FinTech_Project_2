{
 "cells": [
  {
   "cell_type": "code",
   "execution_count": 204,
   "metadata": {},
   "outputs": [
    {
     "name": "stdout",
     "output_type": "stream",
     "text": [
      "[*********************100%***********************]  1 of 1 completed\n"
     ]
    }
   ],
   "source": [
    "# Load the required libraries and data\n",
    "\n",
    "import pandas as pd\n",
    "import seaborn as sns\n",
    "import matplotlib.pyplot as plt\n",
    "import numpy as np\n",
    "import yfinance as yf\n",
    "import math\n",
    "from sklearn.ensemble import RandomForestRegressor\n",
    "from sklearn.model_selection import train_test_split\n",
    "from sklearn.model_selection import ParameterGrid\n",
    "from sklearn.linear_model import LinearRegression\n",
    "from sklearn.preprocessing import StandardScaler\n",
    "from sklearn.pipeline import make_pipeline\n",
    "from sklearn.metrics import mean_absolute_error\n",
    "from sklearn.metrics import mean_squared_error\n",
    "from sklearn import metrics\n",
    "%matplotlib inline\n",
    "\n",
    "ticker = [\"cgc\"]\n",
    "stock_data = yf.download(ticker, start=\"2019-04-20\", end=\"2022-04-20\")\n",
    "#below i was playing around with some yfinance ideas - want to come back to this to handle multi stock dfs\n",
    "#tickers = yf.Tickers('msft aapl goog')\n",
    "#stock_data = yf.download(ticker, start=\"2019-04-20\", end=\"2022-04-20\")\n",
    "#tickers.tickers.msft.info"
   ]
  },
  {
   "cell_type": "code",
   "execution_count": 205,
   "metadata": {},
   "outputs": [
    {
     "data": {
      "text/html": [
       "<div>\n",
       "<style scoped>\n",
       "    .dataframe tbody tr th:only-of-type {\n",
       "        vertical-align: middle;\n",
       "    }\n",
       "\n",
       "    .dataframe tbody tr th {\n",
       "        vertical-align: top;\n",
       "    }\n",
       "\n",
       "    .dataframe thead th {\n",
       "        text-align: right;\n",
       "    }\n",
       "</style>\n",
       "<table border=\"1\" class=\"dataframe\">\n",
       "  <thead>\n",
       "    <tr style=\"text-align: right;\">\n",
       "      <th></th>\n",
       "      <th>Open</th>\n",
       "      <th>High</th>\n",
       "      <th>Low</th>\n",
       "      <th>Close</th>\n",
       "      <th>Adj Close</th>\n",
       "      <th>Volume</th>\n",
       "    </tr>\n",
       "    <tr>\n",
       "      <th>Date</th>\n",
       "      <th></th>\n",
       "      <th></th>\n",
       "      <th></th>\n",
       "      <th></th>\n",
       "      <th></th>\n",
       "      <th></th>\n",
       "    </tr>\n",
       "  </thead>\n",
       "  <tbody>\n",
       "    <tr>\n",
       "      <th>2019-04-22</th>\n",
       "      <td>45.900002</td>\n",
       "      <td>48.700001</td>\n",
       "      <td>45.070000</td>\n",
       "      <td>48.250000</td>\n",
       "      <td>48.250000</td>\n",
       "      <td>11913300</td>\n",
       "    </tr>\n",
       "    <tr>\n",
       "      <th>2019-04-23</th>\n",
       "      <td>48.340000</td>\n",
       "      <td>48.630001</td>\n",
       "      <td>46.860001</td>\n",
       "      <td>47.410000</td>\n",
       "      <td>47.410000</td>\n",
       "      <td>8244100</td>\n",
       "    </tr>\n",
       "    <tr>\n",
       "      <th>2019-04-24</th>\n",
       "      <td>47.270000</td>\n",
       "      <td>48.660000</td>\n",
       "      <td>46.639999</td>\n",
       "      <td>48.369999</td>\n",
       "      <td>48.369999</td>\n",
       "      <td>6385800</td>\n",
       "    </tr>\n",
       "    <tr>\n",
       "      <th>2019-04-25</th>\n",
       "      <td>48.099998</td>\n",
       "      <td>48.523998</td>\n",
       "      <td>47.500000</td>\n",
       "      <td>48.200001</td>\n",
       "      <td>48.200001</td>\n",
       "      <td>4185000</td>\n",
       "    </tr>\n",
       "    <tr>\n",
       "      <th>2019-04-26</th>\n",
       "      <td>48.189999</td>\n",
       "      <td>50.430000</td>\n",
       "      <td>48.119999</td>\n",
       "      <td>49.910000</td>\n",
       "      <td>49.910000</td>\n",
       "      <td>12612500</td>\n",
       "    </tr>\n",
       "  </tbody>\n",
       "</table>\n",
       "</div>"
      ],
      "text/plain": [
       "                 Open       High        Low      Close  Adj Close    Volume\n",
       "Date                                                                       \n",
       "2019-04-22  45.900002  48.700001  45.070000  48.250000  48.250000  11913300\n",
       "2019-04-23  48.340000  48.630001  46.860001  47.410000  47.410000   8244100\n",
       "2019-04-24  47.270000  48.660000  46.639999  48.369999  48.369999   6385800\n",
       "2019-04-25  48.099998  48.523998  47.500000  48.200001  48.200001   4185000\n",
       "2019-04-26  48.189999  50.430000  48.119999  49.910000  49.910000  12612500"
      ]
     },
     "execution_count": 205,
     "metadata": {},
     "output_type": "execute_result"
    }
   ],
   "source": [
    "# create/read data into dataframe\n",
    "# took me a minute/reading yfinance documenation - i did not fully realize the request gives a df return - but there ar\n",
    "#...some other things to look back to - multi/single etc\n",
    "\n",
    "stock_data.head()"
   ]
  },
  {
   "cell_type": "code",
   "execution_count": 181,
   "metadata": {},
   "outputs": [
    {
     "data": {
      "text/plain": [
       "Open         0\n",
       "High         0\n",
       "Low          0\n",
       "Close        0\n",
       "Adj Close    0\n",
       "Volume       0\n",
       "dtype: int64"
      ]
     },
     "execution_count": 181,
     "metadata": {},
     "output_type": "execute_result"
    }
   ],
   "source": [
    "# double check for null values\n",
    "stock_data.isnull().sum()\n"
   ]
  },
  {
   "cell_type": "code",
   "execution_count": 182,
   "metadata": {},
   "outputs": [
    {
     "data": {
      "text/plain": [
       "(756, 6)"
      ]
     },
     "execution_count": 182,
     "metadata": {},
     "output_type": "execute_result"
    }
   ],
   "source": [
    "# Shape of dataframe\n",
    "\n",
    "stock_data.shape"
   ]
  },
  {
   "cell_type": "code",
   "execution_count": 183,
   "metadata": {},
   "outputs": [],
   "source": [
    "# Drop na\n",
    "stock_data.dropna(inplace=True)"
   ]
  },
  {
   "cell_type": "code",
   "execution_count": 184,
   "metadata": {},
   "outputs": [
    {
     "data": {
      "text/html": [
       "<div>\n",
       "<style scoped>\n",
       "    .dataframe tbody tr th:only-of-type {\n",
       "        vertical-align: middle;\n",
       "    }\n",
       "\n",
       "    .dataframe tbody tr th {\n",
       "        vertical-align: top;\n",
       "    }\n",
       "\n",
       "    .dataframe thead th {\n",
       "        text-align: right;\n",
       "    }\n",
       "</style>\n",
       "<table border=\"1\" class=\"dataframe\">\n",
       "  <thead>\n",
       "    <tr style=\"text-align: right;\">\n",
       "      <th></th>\n",
       "      <th>Open</th>\n",
       "      <th>High</th>\n",
       "      <th>Low</th>\n",
       "      <th>Close</th>\n",
       "      <th>Adj Close</th>\n",
       "      <th>Volume</th>\n",
       "      <th>HighPCT</th>\n",
       "    </tr>\n",
       "    <tr>\n",
       "      <th>Date</th>\n",
       "      <th></th>\n",
       "      <th></th>\n",
       "      <th></th>\n",
       "      <th></th>\n",
       "      <th></th>\n",
       "      <th></th>\n",
       "      <th></th>\n",
       "    </tr>\n",
       "  </thead>\n",
       "  <tbody>\n",
       "    <tr>\n",
       "      <th>2019-04-22</th>\n",
       "      <td>45.900002</td>\n",
       "      <td>48.700001</td>\n",
       "      <td>45.070000</td>\n",
       "      <td>48.250000</td>\n",
       "      <td>48.250000</td>\n",
       "      <td>11913300</td>\n",
       "      <td>NaN</td>\n",
       "    </tr>\n",
       "    <tr>\n",
       "      <th>2019-04-23</th>\n",
       "      <td>48.340000</td>\n",
       "      <td>48.630001</td>\n",
       "      <td>46.860001</td>\n",
       "      <td>47.410000</td>\n",
       "      <td>47.410000</td>\n",
       "      <td>8244100</td>\n",
       "      <td>-0.001437</td>\n",
       "    </tr>\n",
       "    <tr>\n",
       "      <th>2019-04-24</th>\n",
       "      <td>47.270000</td>\n",
       "      <td>48.660000</td>\n",
       "      <td>46.639999</td>\n",
       "      <td>48.369999</td>\n",
       "      <td>48.369999</td>\n",
       "      <td>6385800</td>\n",
       "      <td>0.000617</td>\n",
       "    </tr>\n",
       "    <tr>\n",
       "      <th>2019-04-25</th>\n",
       "      <td>48.099998</td>\n",
       "      <td>48.523998</td>\n",
       "      <td>47.500000</td>\n",
       "      <td>48.200001</td>\n",
       "      <td>48.200001</td>\n",
       "      <td>4185000</td>\n",
       "      <td>-0.002795</td>\n",
       "    </tr>\n",
       "    <tr>\n",
       "      <th>2019-04-26</th>\n",
       "      <td>48.189999</td>\n",
       "      <td>50.430000</td>\n",
       "      <td>48.119999</td>\n",
       "      <td>49.910000</td>\n",
       "      <td>49.910000</td>\n",
       "      <td>12612500</td>\n",
       "      <td>0.039280</td>\n",
       "    </tr>\n",
       "  </tbody>\n",
       "</table>\n",
       "</div>"
      ],
      "text/plain": [
       "                 Open       High        Low      Close  Adj Close    Volume  \\\n",
       "Date                                                                          \n",
       "2019-04-22  45.900002  48.700001  45.070000  48.250000  48.250000  11913300   \n",
       "2019-04-23  48.340000  48.630001  46.860001  47.410000  47.410000   8244100   \n",
       "2019-04-24  47.270000  48.660000  46.639999  48.369999  48.369999   6385800   \n",
       "2019-04-25  48.099998  48.523998  47.500000  48.200001  48.200001   4185000   \n",
       "2019-04-26  48.189999  50.430000  48.119999  49.910000  49.910000  12612500   \n",
       "\n",
       "             HighPCT  \n",
       "Date                  \n",
       "2019-04-22       NaN  \n",
       "2019-04-23 -0.001437  \n",
       "2019-04-24  0.000617  \n",
       "2019-04-25 -0.002795  \n",
       "2019-04-26  0.039280  "
      ]
     },
     "execution_count": 184,
     "metadata": {},
     "output_type": "execute_result"
    }
   ],
   "source": [
    "stock_data[\"HighPCT\"] = stock_data[\"High\"].pct_change()\n",
    "\n",
    "#stock_data['HL_PCT']=(stock_data['High']-stock_data['Low'])/stock_data['Adj Close']*100\n",
    "#stock_data['PCT_change']=(stock_data['Adj Close']-stock_data['Open'])/stock_data['Open']*100\n",
    "\n",
    "stock_data.head()"
   ]
  },
  {
   "cell_type": "code",
   "execution_count": 185,
   "metadata": {},
   "outputs": [
    {
     "data": {
      "text/html": [
       "<div>\n",
       "<style scoped>\n",
       "    .dataframe tbody tr th:only-of-type {\n",
       "        vertical-align: middle;\n",
       "    }\n",
       "\n",
       "    .dataframe tbody tr th {\n",
       "        vertical-align: top;\n",
       "    }\n",
       "\n",
       "    .dataframe thead th {\n",
       "        text-align: right;\n",
       "    }\n",
       "</style>\n",
       "<table border=\"1\" class=\"dataframe\">\n",
       "  <thead>\n",
       "    <tr style=\"text-align: right;\">\n",
       "      <th></th>\n",
       "      <th>Adj Close</th>\n",
       "      <th>Volume</th>\n",
       "      <th>HighPCT</th>\n",
       "    </tr>\n",
       "    <tr>\n",
       "      <th>Date</th>\n",
       "      <th></th>\n",
       "      <th></th>\n",
       "      <th></th>\n",
       "    </tr>\n",
       "  </thead>\n",
       "  <tbody>\n",
       "    <tr>\n",
       "      <th>2019-04-22</th>\n",
       "      <td>48.250000</td>\n",
       "      <td>11913300</td>\n",
       "      <td>NaN</td>\n",
       "    </tr>\n",
       "    <tr>\n",
       "      <th>2019-04-23</th>\n",
       "      <td>47.410000</td>\n",
       "      <td>8244100</td>\n",
       "      <td>-0.001437</td>\n",
       "    </tr>\n",
       "    <tr>\n",
       "      <th>2019-04-24</th>\n",
       "      <td>48.369999</td>\n",
       "      <td>6385800</td>\n",
       "      <td>0.000617</td>\n",
       "    </tr>\n",
       "    <tr>\n",
       "      <th>2019-04-25</th>\n",
       "      <td>48.200001</td>\n",
       "      <td>4185000</td>\n",
       "      <td>-0.002795</td>\n",
       "    </tr>\n",
       "    <tr>\n",
       "      <th>2019-04-26</th>\n",
       "      <td>49.910000</td>\n",
       "      <td>12612500</td>\n",
       "      <td>0.039280</td>\n",
       "    </tr>\n",
       "  </tbody>\n",
       "</table>\n",
       "</div>"
      ],
      "text/plain": [
       "            Adj Close    Volume   HighPCT\n",
       "Date                                     \n",
       "2019-04-22  48.250000  11913300       NaN\n",
       "2019-04-23  47.410000   8244100 -0.001437\n",
       "2019-04-24  48.369999   6385800  0.000617\n",
       "2019-04-25  48.200001   4185000 -0.002795\n",
       "2019-04-26  49.910000  12612500  0.039280"
      ]
     },
     "execution_count": 185,
     "metadata": {},
     "output_type": "execute_result"
    }
   ],
   "source": [
    "stock_data1 = stock_data[['Adj Close' , 'Volume', 'HighPCT']]\n",
    "stock_data1.head()"
   ]
  },
  {
   "cell_type": "code",
   "execution_count": 186,
   "metadata": {},
   "outputs": [
    {
     "name": "stderr",
     "output_type": "stream",
     "text": [
      "/Users/jasonraeppold/opt/anaconda3/envs/dev/lib/python3.7/site-packages/pandas/util/_decorators.py:311: SettingWithCopyWarning: \n",
      "A value is trying to be set on a copy of a slice from a DataFrame\n",
      "\n",
      "See the caveats in the documentation: https://pandas.pydata.org/pandas-docs/stable/user_guide/indexing.html#returning-a-view-versus-a-copy\n",
      "  return func(*args, **kwargs)\n"
     ]
    }
   ],
   "source": [
    "stock_data1.dropna(inplace=True)\n"
   ]
  },
  {
   "cell_type": "code",
   "execution_count": 187,
   "metadata": {},
   "outputs": [
    {
     "data": {
      "text/plain": [
       "<bound method DataFrame.corr of             Adj Close    Volume   HighPCT\n",
       "Date                                     \n",
       "2019-04-23  47.410000   8244100 -0.001437\n",
       "2019-04-24  48.369999   6385800  0.000617\n",
       "2019-04-25  48.200001   4185000 -0.002795\n",
       "2019-04-26  49.910000  12612500  0.039280\n",
       "2019-04-29  52.029999  13118000  0.043030\n",
       "...               ...       ...       ...\n",
       "2022-04-12   6.780000   4876100  0.052250\n",
       "2022-04-13   7.110000   4641100 -0.017931\n",
       "2022-04-14   6.820000   4848400 -0.011236\n",
       "2022-04-18   5.990000  10625600 -0.029830\n",
       "2022-04-19   5.930000   6861100 -0.112738\n",
       "\n",
       "[755 rows x 3 columns]>"
      ]
     },
     "execution_count": 187,
     "metadata": {},
     "output_type": "execute_result"
    }
   ],
   "source": [
    "stock_data1.corr"
   ]
  },
  {
   "cell_type": "code",
   "execution_count": 188,
   "metadata": {},
   "outputs": [
    {
     "data": {
      "text/plain": [
       "<function matplotlib.pyplot.show(close=None, block=None)>"
      ]
     },
     "execution_count": 188,
     "metadata": {},
     "output_type": "execute_result"
    },
    {
     "data": {
      "image/png": "[encoded data removed]",
      "text/plain": [
       "<Figure size 1440x1440 with 2 Axes>"
      ]
     },
     "metadata": {
      "needs_background": "light"
     },
     "output_type": "display_data"
    }
   ],
   "source": [
    "plt.figure(figsize=(20,20))\n",
    "sns.heatmap(stock_data.corr() , annot=True, cmap=plt.cm.Accent)\n",
    "plt.show"
   ]
  },
  {
   "cell_type": "code",
   "execution_count": 189,
   "metadata": {},
   "outputs": [
    {
     "data": {
      "text/plain": [
       "Adj Close    0\n",
       "Volume       0\n",
       "HighPCT      0\n",
       "dtype: int64"
      ]
     },
     "execution_count": 189,
     "metadata": {},
     "output_type": "execute_result"
    }
   ],
   "source": [
    "stock_data1.isnull().sum()\n"
   ]
  },
  {
   "cell_type": "code",
   "execution_count": 190,
   "metadata": {},
   "outputs": [
    {
     "data": {
      "text/html": [
       "<div>\n",
       "<style scoped>\n",
       "    .dataframe tbody tr th:only-of-type {\n",
       "        vertical-align: middle;\n",
       "    }\n",
       "\n",
       "    .dataframe tbody tr th {\n",
       "        vertical-align: top;\n",
       "    }\n",
       "\n",
       "    .dataframe thead th {\n",
       "        text-align: right;\n",
       "    }\n",
       "</style>\n",
       "<table border=\"1\" class=\"dataframe\">\n",
       "  <thead>\n",
       "    <tr style=\"text-align: right;\">\n",
       "      <th></th>\n",
       "      <th>Volume</th>\n",
       "      <th>HighPCT</th>\n",
       "    </tr>\n",
       "    <tr>\n",
       "      <th>Date</th>\n",
       "      <th></th>\n",
       "      <th></th>\n",
       "    </tr>\n",
       "  </thead>\n",
       "  <tbody>\n",
       "    <tr>\n",
       "      <th>2019-04-23</th>\n",
       "      <td>8244100</td>\n",
       "      <td>-0.001437</td>\n",
       "    </tr>\n",
       "    <tr>\n",
       "      <th>2019-04-24</th>\n",
       "      <td>6385800</td>\n",
       "      <td>0.000617</td>\n",
       "    </tr>\n",
       "    <tr>\n",
       "      <th>2019-04-25</th>\n",
       "      <td>4185000</td>\n",
       "      <td>-0.002795</td>\n",
       "    </tr>\n",
       "    <tr>\n",
       "      <th>2019-04-26</th>\n",
       "      <td>12612500</td>\n",
       "      <td>0.039280</td>\n",
       "    </tr>\n",
       "    <tr>\n",
       "      <th>2019-04-29</th>\n",
       "      <td>13118000</td>\n",
       "      <td>0.043030</td>\n",
       "    </tr>\n",
       "  </tbody>\n",
       "</table>\n",
       "</div>"
      ],
      "text/plain": [
       "              Volume   HighPCT\n",
       "Date                          \n",
       "2019-04-23   8244100 -0.001437\n",
       "2019-04-24   6385800  0.000617\n",
       "2019-04-25   4185000 -0.002795\n",
       "2019-04-26  12612500  0.039280\n",
       "2019-04-29  13118000  0.043030"
      ]
     },
     "execution_count": 190,
     "metadata": {},
     "output_type": "execute_result"
    }
   ],
   "source": [
    "X = stock_data1.drop('Adj Close', axis=1)\n",
    "\n",
    "y = stock_data1['Adj Close']\n",
    "\n",
    "X.head()"
   ]
  },
  {
   "cell_type": "code",
   "execution_count": 191,
   "metadata": {},
   "outputs": [
    {
     "data": {
      "text/plain": [
       "Date\n",
       "2019-04-23    47.410000\n",
       "2019-04-24    48.369999\n",
       "2019-04-25    48.200001\n",
       "2019-04-26    49.910000\n",
       "2019-04-29    52.029999\n",
       "Name: Adj Close, dtype: float64"
      ]
     },
     "execution_count": 191,
     "metadata": {},
     "output_type": "execute_result"
    }
   ],
   "source": [
    "y.head()"
   ]
  },
  {
   "cell_type": "code",
   "execution_count": 192,
   "metadata": {},
   "outputs": [],
   "source": [
    "X_train, X_test, y_train, y_test = train_test_split(X, y, test_size=0.2, random_state=78)"
   ]
  },
  {
   "cell_type": "code",
   "execution_count": 193,
   "metadata": {},
   "outputs": [
    {
     "data": {
      "text/plain": [
       "((604, 2), (604,), (151, 2), (151,))"
      ]
     },
     "execution_count": 193,
     "metadata": {},
     "output_type": "execute_result"
    }
   ],
   "source": [
    "X_train.shape , y_train.shape, X_test.shape, y_test.shape"
   ]
  },
  {
   "cell_type": "code",
   "execution_count": 194,
   "metadata": {},
   "outputs": [],
   "source": [
    "scaler = StandardScaler()\n"
   ]
  },
  {
   "cell_type": "code",
   "execution_count": 195,
   "metadata": {},
   "outputs": [],
   "source": [
    "X_train = scaler.fit_transform(X_train)\n",
    "X_test = scaler.transform(X_test)\n"
   ]
  },
  {
   "cell_type": "code",
   "execution_count": 196,
   "metadata": {},
   "outputs": [
    {
     "name": "stdout",
     "output_type": "stream",
     "text": [
      "Date\n",
      "2021-07-16    19.580000\n",
      "2021-10-26    13.170000\n",
      "2022-03-14     5.700000\n",
      "2020-12-23    27.010000\n",
      "2019-12-18    19.730000\n",
      "                ...    \n",
      "2020-07-15    18.150000\n",
      "2019-09-20    25.559999\n",
      "2019-06-19    42.770000\n",
      "2021-03-04    31.010000\n",
      "2022-02-11     9.220000\n",
      "Name: Adj Close, Length: 604, dtype: float64\n"
     ]
    }
   ],
   "source": [
    "print(y_train)"
   ]
  },
  {
   "cell_type": "code",
   "execution_count": 197,
   "metadata": {},
   "outputs": [
    {
     "name": "stdout",
     "output_type": "stream",
     "text": [
      "[[-0.64010922 -0.16911014]\n",
      " [-0.34408466  0.05845536]\n",
      " [-0.11911308 -1.27783747]\n",
      " ...\n",
      " [-0.61652813  0.2554748 ]\n",
      " [ 0.15284373 -1.22384194]\n",
      " [ 2.55822576  1.19998404]]\n"
     ]
    }
   ],
   "source": [
    "print(X_train)"
   ]
  },
  {
   "cell_type": "code",
   "execution_count": 198,
   "metadata": {},
   "outputs": [],
   "source": [
    "\n",
    "jr_model = LinearRegression()\n",
    "jr_model.fit(X_train, y_train)\n",
    "predictions = jr_model.predict(X_test)\n"
   ]
  },
  {
   "cell_type": "code",
   "execution_count": 199,
   "metadata": {},
   "outputs": [],
   "source": [
    "#see above\n",
    "# predictions = jr_model.predict(X_test)\n",
    "#predictions"
   ]
  },
  {
   "cell_type": "code",
   "execution_count": 200,
   "metadata": {},
   "outputs": [
    {
     "data": {
      "text/plain": [
       "Date\n",
       "2021-05-17    23.150000\n",
       "2021-03-15    35.560001\n",
       "2021-12-02    10.360000\n",
       "2019-05-06    49.200001\n",
       "2020-05-01    15.260000\n",
       "                ...    \n",
       "2021-11-16    14.380000\n",
       "2021-08-09    19.110001\n",
       "2020-05-12    14.770000\n",
       "2021-02-05    42.930000\n",
       "2019-09-13    27.459999\n",
       "Name: Adj Close, Length: 151, dtype: float64"
      ]
     },
     "execution_count": 200,
     "metadata": {},
     "output_type": "execute_result"
    }
   ],
   "source": [
    "y_test"
   ]
  },
  {
   "cell_type": "code",
   "execution_count": 201,
   "metadata": {},
   "outputs": [
    {
     "data": {
      "text/html": [
       "<div>\n",
       "<style scoped>\n",
       "    .dataframe tbody tr th:only-of-type {\n",
       "        vertical-align: middle;\n",
       "    }\n",
       "\n",
       "    .dataframe tbody tr th {\n",
       "        vertical-align: top;\n",
       "    }\n",
       "\n",
       "    .dataframe thead th {\n",
       "        text-align: right;\n",
       "    }\n",
       "</style>\n",
       "<table border=\"1\" class=\"dataframe\">\n",
       "  <thead>\n",
       "    <tr style=\"text-align: right;\">\n",
       "      <th></th>\n",
       "      <th>Actual</th>\n",
       "      <th>Predicted</th>\n",
       "    </tr>\n",
       "    <tr>\n",
       "      <th>Date</th>\n",
       "      <th></th>\n",
       "      <th></th>\n",
       "    </tr>\n",
       "  </thead>\n",
       "  <tbody>\n",
       "    <tr>\n",
       "      <th>2021-05-17</th>\n",
       "      <td>23.150000</td>\n",
       "      <td>22.534312</td>\n",
       "    </tr>\n",
       "    <tr>\n",
       "      <th>2021-03-15</th>\n",
       "      <td>35.560001</td>\n",
       "      <td>22.635770</td>\n",
       "    </tr>\n",
       "    <tr>\n",
       "      <th>2021-12-02</th>\n",
       "      <td>10.360000</td>\n",
       "      <td>19.830874</td>\n",
       "    </tr>\n",
       "    <tr>\n",
       "      <th>2019-05-06</th>\n",
       "      <td>49.200001</td>\n",
       "      <td>21.951321</td>\n",
       "    </tr>\n",
       "    <tr>\n",
       "      <th>2020-05-01</th>\n",
       "      <td>15.260000</td>\n",
       "      <td>20.119761</td>\n",
       "    </tr>\n",
       "    <tr>\n",
       "      <th>...</th>\n",
       "      <td>...</td>\n",
       "      <td>...</td>\n",
       "    </tr>\n",
       "    <tr>\n",
       "      <th>2021-11-16</th>\n",
       "      <td>14.380000</td>\n",
       "      <td>19.558127</td>\n",
       "    </tr>\n",
       "    <tr>\n",
       "      <th>2021-08-09</th>\n",
       "      <td>19.110001</td>\n",
       "      <td>21.858749</td>\n",
       "    </tr>\n",
       "    <tr>\n",
       "      <th>2020-05-12</th>\n",
       "      <td>14.770000</td>\n",
       "      <td>21.609055</td>\n",
       "    </tr>\n",
       "    <tr>\n",
       "      <th>2021-02-05</th>\n",
       "      <td>42.930000</td>\n",
       "      <td>20.957615</td>\n",
       "    </tr>\n",
       "    <tr>\n",
       "      <th>2019-09-13</th>\n",
       "      <td>27.459999</td>\n",
       "      <td>22.459973</td>\n",
       "    </tr>\n",
       "  </tbody>\n",
       "</table>\n",
       "<p>151 rows × 2 columns</p>\n",
       "</div>"
      ],
      "text/plain": [
       "               Actual  Predicted\n",
       "Date                            \n",
       "2021-05-17  23.150000  22.534312\n",
       "2021-03-15  35.560001  22.635770\n",
       "2021-12-02  10.360000  19.830874\n",
       "2019-05-06  49.200001  21.951321\n",
       "2020-05-01  15.260000  20.119761\n",
       "...               ...        ...\n",
       "2021-11-16  14.380000  19.558127\n",
       "2021-08-09  19.110001  21.858749\n",
       "2020-05-12  14.770000  21.609055\n",
       "2021-02-05  42.930000  20.957615\n",
       "2019-09-13  27.459999  22.459973\n",
       "\n",
       "[151 rows x 2 columns]"
      ]
     },
     "execution_count": 201,
     "metadata": {},
     "output_type": "execute_result"
    }
   ],
   "source": [
    "# Compare the actual versus predicted\n",
    "comparison_df = pd.DataFrame({'Actual' : y_test , \"Predicted\" : predictions})\n",
    "comparison_df"
   ]
  },
  {
   "cell_type": "code",
   "execution_count": 202,
   "metadata": {},
   "outputs": [
    {
     "data": {
      "text/plain": [
       "<AxesSubplot:xlabel='Date'>"
      ]
     },
     "execution_count": 202,
     "metadata": {},
     "output_type": "execute_result"
    },
    {
     "data": {
      "image/png": "[encoded data removed]",
      "text/plain": [
       "<Figure size 432x288 with 1 Axes>"
      ]
     },
     "metadata": {
      "needs_background": "light"
     },
     "output_type": "display_data"
    }
   ],
   "source": [
    "comparison_df.plot()"
   ]
  },
  {
   "cell_type": "code",
   "execution_count": 203,
   "metadata": {},
   "outputs": [
    {
     "name": "stdout",
     "output_type": "stream",
     "text": [
      "Mean Absolute Error: 8.044584458598468\n",
      "Mean Squared Error: 105.04591211340988\n",
      "Root Mean Squared Error: 10.249190802859019\n"
     ]
    }
   ],
   "source": [
    "print(\"Mean Absolute Error:\", mean_absolute_error(y_test, predictions))\n",
    "print(\"Mean Squared Error:\" , mean_squared_error(y_test, predictions))\n",
    "print(\"Root Mean Squared Error:\" ,math.sqrt(mean_squared_error(y_test, predictions)))"
   ]
  },
  {
   "cell_type": "code",
   "execution_count": null,
   "metadata": {},
   "outputs": [],
   "source": []
  }
 ],
 "metadata": {
  "kernelspec": {
   "display_name": "Python 3.7.13 ('dev')",
   "language": "python",
   "name": "python3"
  },
  "language_info": {
   "codemirror_mode": {
    "name": "ipython",
    "version": 3
   },
   "file_extension": ".py",
   "mimetype": "text/x-python",
   "name": "python",
   "nbconvert_exporter": "python",
   "pygments_lexer": "ipython3",
   "version": "3.7.13"
  },
  "orig_nbformat": 4,
  "vscode": {
   "interpreter": {
    "hash": "7631c39f756ee97fc32a5db05973838915965d11307db0fdf357e8b46bea8845"
   }
  }
 },
 "nbformat": 4,
 "nbformat_minor": 2
}
