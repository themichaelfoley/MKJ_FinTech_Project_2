{
 "cells": [
  {
   "cell_type": "markdown",
   "metadata": {},
   "source": [
    "### Data Preparation & Loading"
   ]
  },
  {
   "cell_type": "code",
   "execution_count": 49,
   "metadata": {},
   "outputs": [],
   "source": [
    "# Initial imports\n",
    "import numpy as np\n",
    "import pandas as pd\n",
    "from pathlib import Path\n",
    "\n",
    "%matplotlib inline"
   ]
  },
  {
   "cell_type": "code",
   "execution_count": 50,
   "metadata": {},
   "outputs": [],
   "source": [
    "# Set the random seed for reproducibility\n",
    "from numpy.random import seed\n",
    "\n",
    "seed(1)\n",
    "from tensorflow import random\n",
    "\n",
    "random.set_seed(2)"
   ]
  },
  {
   "cell_type": "code",
   "execution_count": 51,
   "metadata": {},
   "outputs": [
    {
     "data": {
      "text/html": [
       "<div>\n",
       "<style scoped>\n",
       "    .dataframe tbody tr th:only-of-type {\n",
       "        vertical-align: middle;\n",
       "    }\n",
       "\n",
       "    .dataframe tbody tr th {\n",
       "        vertical-align: top;\n",
       "    }\n",
       "\n",
       "    .dataframe thead th {\n",
       "        text-align: right;\n",
       "    }\n",
       "</style>\n",
       "<table border=\"1\" class=\"dataframe\">\n",
       "  <thead>\n",
       "    <tr style=\"text-align: right;\">\n",
       "      <th></th>\n",
       "      <th>open</th>\n",
       "      <th>high</th>\n",
       "      <th>low</th>\n",
       "      <th>close</th>\n",
       "      <th>volume</th>\n",
       "      <th>trade_count</th>\n",
       "      <th>vwap</th>\n",
       "      <th>symbol</th>\n",
       "    </tr>\n",
       "    <tr>\n",
       "      <th>date</th>\n",
       "      <th></th>\n",
       "      <th></th>\n",
       "      <th></th>\n",
       "      <th></th>\n",
       "      <th></th>\n",
       "      <th></th>\n",
       "      <th></th>\n",
       "      <th></th>\n",
       "    </tr>\n",
       "  </thead>\n",
       "  <tbody>\n",
       "    <tr>\n",
       "      <th>2019-04-22</th>\n",
       "      <td>89.69</td>\n",
       "      <td>90.470</td>\n",
       "      <td>89.58</td>\n",
       "      <td>89.60</td>\n",
       "      <td>970834</td>\n",
       "      <td>9479</td>\n",
       "      <td>90.000447</td>\n",
       "      <td>BUD</td>\n",
       "    </tr>\n",
       "    <tr>\n",
       "      <th>2019-04-23</th>\n",
       "      <td>88.56</td>\n",
       "      <td>89.790</td>\n",
       "      <td>88.50</td>\n",
       "      <td>89.25</td>\n",
       "      <td>755451</td>\n",
       "      <td>7907</td>\n",
       "      <td>89.242818</td>\n",
       "      <td>BUD</td>\n",
       "    </tr>\n",
       "    <tr>\n",
       "      <th>2019-04-24</th>\n",
       "      <td>89.02</td>\n",
       "      <td>89.130</td>\n",
       "      <td>87.82</td>\n",
       "      <td>88.21</td>\n",
       "      <td>1038366</td>\n",
       "      <td>11509</td>\n",
       "      <td>88.324096</td>\n",
       "      <td>BUD</td>\n",
       "    </tr>\n",
       "    <tr>\n",
       "      <th>2019-04-25</th>\n",
       "      <td>86.89</td>\n",
       "      <td>87.020</td>\n",
       "      <td>86.00</td>\n",
       "      <td>86.64</td>\n",
       "      <td>1341678</td>\n",
       "      <td>13124</td>\n",
       "      <td>86.467163</td>\n",
       "      <td>BUD</td>\n",
       "    </tr>\n",
       "    <tr>\n",
       "      <th>2019-04-26</th>\n",
       "      <td>87.38</td>\n",
       "      <td>87.625</td>\n",
       "      <td>86.83</td>\n",
       "      <td>87.58</td>\n",
       "      <td>920430</td>\n",
       "      <td>9005</td>\n",
       "      <td>87.292918</td>\n",
       "      <td>BUD</td>\n",
       "    </tr>\n",
       "  </tbody>\n",
       "</table>\n",
       "</div>"
      ],
      "text/plain": [
       "             open    high    low  close   volume  trade_count       vwap  \\\n",
       "date                                                                       \n",
       "2019-04-22  89.69  90.470  89.58  89.60   970834         9479  90.000447   \n",
       "2019-04-23  88.56  89.790  88.50  89.25   755451         7907  89.242818   \n",
       "2019-04-24  89.02  89.130  87.82  88.21  1038366        11509  88.324096   \n",
       "2019-04-25  86.89  87.020  86.00  86.64  1341678        13124  86.467163   \n",
       "2019-04-26  87.38  87.625  86.83  87.58   920430         9005  87.292918   \n",
       "\n",
       "           symbol  \n",
       "date               \n",
       "2019-04-22    BUD  \n",
       "2019-04-23    BUD  \n",
       "2019-04-24    BUD  \n",
       "2019-04-25    BUD  \n",
       "2019-04-26    BUD  "
      ]
     },
     "execution_count": 51,
     "metadata": {},
     "output_type": "execute_result"
    }
   ],
   "source": [
    "# Load the stocks data\n",
    "df_stocks = pd.read_csv(\n",
    "    Path(\"../Project_2_work/api_data.csv\"),\n",
    "    index_col=\"date\",\n",
    "    infer_datetime_format=True,\n",
    "    parse_dates=True,\n",
    ")\n",
    "df_stocks.head()"
   ]
  },
  {
   "cell_type": "code",
   "execution_count": 52,
   "metadata": {},
   "outputs": [
    {
     "data": {
      "text/html": [
       "<div>\n",
       "<style scoped>\n",
       "    .dataframe tbody tr th:only-of-type {\n",
       "        vertical-align: middle;\n",
       "    }\n",
       "\n",
       "    .dataframe tbody tr th {\n",
       "        vertical-align: top;\n",
       "    }\n",
       "\n",
       "    .dataframe thead tr th {\n",
       "        text-align: left;\n",
       "    }\n",
       "\n",
       "    .dataframe thead tr:last-of-type th {\n",
       "        text-align: right;\n",
       "    }\n",
       "</style>\n",
       "<table border=\"1\" class=\"dataframe\">\n",
       "  <thead>\n",
       "    <tr>\n",
       "      <th></th>\n",
       "      <th colspan=\"11\" halign=\"left\">close</th>\n",
       "    </tr>\n",
       "    <tr>\n",
       "      <th>symbol</th>\n",
       "      <th>BUD</th>\n",
       "      <th>CGC</th>\n",
       "      <th>CRON</th>\n",
       "      <th>DEO</th>\n",
       "      <th>JAZZ</th>\n",
       "      <th>SAM</th>\n",
       "      <th>SPY</th>\n",
       "      <th>STZ</th>\n",
       "      <th>TAP</th>\n",
       "      <th>TLRY</th>\n",
       "      <th>VFF</th>\n",
       "    </tr>\n",
       "    <tr>\n",
       "      <th>date</th>\n",
       "      <th></th>\n",
       "      <th></th>\n",
       "      <th></th>\n",
       "      <th></th>\n",
       "      <th></th>\n",
       "      <th></th>\n",
       "      <th></th>\n",
       "      <th></th>\n",
       "      <th></th>\n",
       "      <th></th>\n",
       "      <th></th>\n",
       "    </tr>\n",
       "  </thead>\n",
       "  <tbody>\n",
       "    <tr>\n",
       "      <th>2019-04-22</th>\n",
       "      <td>89.60</td>\n",
       "      <td>48.25</td>\n",
       "      <td>16.86</td>\n",
       "      <td>162.58</td>\n",
       "      <td>125.97</td>\n",
       "      <td>271.34</td>\n",
       "      <td>290.27</td>\n",
       "      <td>205.46</td>\n",
       "      <td>61.16</td>\n",
       "      <td>51.82</td>\n",
       "      <td>11.56</td>\n",
       "    </tr>\n",
       "    <tr>\n",
       "      <th>2019-04-23</th>\n",
       "      <td>89.25</td>\n",
       "      <td>47.41</td>\n",
       "      <td>16.28</td>\n",
       "      <td>163.80</td>\n",
       "      <td>129.78</td>\n",
       "      <td>277.73</td>\n",
       "      <td>292.88</td>\n",
       "      <td>207.48</td>\n",
       "      <td>61.28</td>\n",
       "      <td>50.26</td>\n",
       "      <td>11.08</td>\n",
       "    </tr>\n",
       "    <tr>\n",
       "      <th>2019-04-24</th>\n",
       "      <td>88.21</td>\n",
       "      <td>48.37</td>\n",
       "      <td>16.59</td>\n",
       "      <td>164.13</td>\n",
       "      <td>129.42</td>\n",
       "      <td>276.43</td>\n",
       "      <td>292.23</td>\n",
       "      <td>210.14</td>\n",
       "      <td>62.51</td>\n",
       "      <td>51.30</td>\n",
       "      <td>12.29</td>\n",
       "    </tr>\n",
       "    <tr>\n",
       "      <th>2019-04-25</th>\n",
       "      <td>86.64</td>\n",
       "      <td>48.20</td>\n",
       "      <td>16.52</td>\n",
       "      <td>164.17</td>\n",
       "      <td>128.53</td>\n",
       "      <td>300.00</td>\n",
       "      <td>292.05</td>\n",
       "      <td>212.16</td>\n",
       "      <td>62.80</td>\n",
       "      <td>51.27</td>\n",
       "      <td>11.62</td>\n",
       "    </tr>\n",
       "    <tr>\n",
       "      <th>2019-04-26</th>\n",
       "      <td>87.58</td>\n",
       "      <td>49.91</td>\n",
       "      <td>17.16</td>\n",
       "      <td>166.48</td>\n",
       "      <td>130.99</td>\n",
       "      <td>304.56</td>\n",
       "      <td>293.41</td>\n",
       "      <td>212.16</td>\n",
       "      <td>63.83</td>\n",
       "      <td>53.15</td>\n",
       "      <td>11.57</td>\n",
       "    </tr>\n",
       "  </tbody>\n",
       "</table>\n",
       "</div>"
      ],
      "text/plain": [
       "            close                                                        \\\n",
       "symbol        BUD    CGC   CRON     DEO    JAZZ     SAM     SPY     STZ   \n",
       "date                                                                      \n",
       "2019-04-22  89.60  48.25  16.86  162.58  125.97  271.34  290.27  205.46   \n",
       "2019-04-23  89.25  47.41  16.28  163.80  129.78  277.73  292.88  207.48   \n",
       "2019-04-24  88.21  48.37  16.59  164.13  129.42  276.43  292.23  210.14   \n",
       "2019-04-25  86.64  48.20  16.52  164.17  128.53  300.00  292.05  212.16   \n",
       "2019-04-26  87.58  49.91  17.16  166.48  130.99  304.56  293.41  212.16   \n",
       "\n",
       "                                 \n",
       "symbol        TAP   TLRY    VFF  \n",
       "date                             \n",
       "2019-04-22  61.16  51.82  11.56  \n",
       "2019-04-23  61.28  50.26  11.08  \n",
       "2019-04-24  62.51  51.30  12.29  \n",
       "2019-04-25  62.80  51.27  11.62  \n",
       "2019-04-26  63.83  53.15  11.57  "
      ]
     },
     "execution_count": 52,
     "metadata": {},
     "output_type": "execute_result"
    }
   ],
   "source": [
    "# Isolating the closing data using a pivot table\n",
    "all_close_prices = df_stocks.pivot(values=[\"close\"], columns= \"symbol\")\n",
    "all_close_prices.head()"
   ]
  },
  {
   "cell_type": "markdown",
   "metadata": {},
   "source": [
    "### Creating input feature vectors \"X\" and the target vector \"y\""
   ]
  },
  {
   "cell_type": "code",
   "execution_count": 53,
   "metadata": {},
   "outputs": [],
   "source": [
    "#The function will have the following parameters: df_stocks, window, feature_col_number, and target_col_number. \n",
    "\n",
    "def window_data(df_stocks, window, feature_col_number, target_col_number):\n",
    "\n",
    "    X = []\n",
    "    y = []\n",
    "    for i in range(len(df_stocks) - window):\n",
    "        features = df_stocks.iloc[i : (i + window), feature_col_number]\n",
    "        target = df_stocks.iloc[(i + window), target_col_number]\n",
    "        X.append(features)\n",
    "        y.append(target)\n",
    "    return np.array(X), np.array(y).reshape(-1,1)"
   ]
  },
  {
   "cell_type": "code",
   "execution_count": 54,
   "metadata": {},
   "outputs": [
    {
     "name": "stdout",
     "output_type": "stream",
     "text": [
      "X sample values:\n",
      "[[[ 48.25  16.86 125.97 290.27  51.82  11.56]\n",
      "  [ 47.41  16.28 129.78 292.88  50.26  11.08]\n",
      "  [ 48.37  16.59 129.42 292.23  51.3   12.29]\n",
      "  [ 48.2   16.52 128.53 292.05  51.27  11.62]\n",
      "  [ 49.91  17.16 130.99 293.41  53.15  11.57]\n",
      "  [ 52.03  17.01 131.05 293.87  52.73  12.01]\n",
      "  [ 50.52  17.16 129.77 294.02  51.33  12.5 ]\n",
      "  [ 50.68  17.06 129.62 291.81  51.95  11.9 ]\n",
      "  [ 48.46  16.68 129.57 291.18  50.23  11.53]\n",
      "  [ 49.08  16.57 132.32 294.03  50.22  11.79]]\n",
      "\n",
      " [[ 47.41  16.28 129.78 292.88  50.26  11.08]\n",
      "  [ 48.37  16.59 129.42 292.23  51.3   12.29]\n",
      "  [ 48.2   16.52 128.53 292.05  51.27  11.62]\n",
      "  [ 49.91  17.16 130.99 293.41  53.15  11.57]\n",
      "  [ 52.03  17.01 131.05 293.87  52.73  12.01]\n",
      "  [ 50.52  17.16 129.77 294.02  51.33  12.5 ]\n",
      "  [ 50.68  17.06 129.62 291.81  51.95  11.9 ]\n",
      "  [ 48.46  16.68 129.57 291.18  50.23  11.53]\n",
      "  [ 49.08  16.57 132.32 294.03  50.22  11.79]\n",
      "  [ 49.2   16.34 132.81 292.82  49.79  11.9 ]]\n",
      "\n",
      " [[ 48.37  16.59 129.42 292.23  51.3   12.29]\n",
      "  [ 48.2   16.52 128.53 292.05  51.27  11.62]\n",
      "  [ 49.91  17.16 130.99 293.41  53.15  11.57]\n",
      "  [ 52.03  17.01 131.05 293.87  52.73  12.01]\n",
      "  [ 50.52  17.16 129.77 294.02  51.33  12.5 ]\n",
      "  [ 50.68  17.06 129.62 291.81  51.95  11.9 ]\n",
      "  [ 48.46  16.68 129.57 291.18  50.23  11.53]\n",
      "  [ 49.08  16.57 132.32 294.03  50.22  11.79]\n",
      "  [ 49.2   16.34 132.81 292.82  49.79  11.9 ]\n",
      "  [ 47.55  15.44 128.65 287.93  47.22  11.25]]\n",
      "\n",
      " [[ 48.2   16.52 128.53 292.05  51.27  11.62]\n",
      "  [ 49.91  17.16 130.99 293.41  53.15  11.57]\n",
      "  [ 52.03  17.01 131.05 293.87  52.73  12.01]\n",
      "  [ 50.52  17.16 129.77 294.02  51.33  12.5 ]\n",
      "  [ 50.68  17.06 129.62 291.81  51.95  11.9 ]\n",
      "  [ 48.46  16.68 129.57 291.18  50.23  11.53]\n",
      "  [ 49.08  16.57 132.32 294.03  50.22  11.79]\n",
      "  [ 49.2   16.34 132.81 292.82  49.79  11.9 ]\n",
      "  [ 47.55  15.44 128.65 287.93  47.22  11.25]\n",
      "  [ 48.04  15.46 140.59 287.53  46.05  10.95]]\n",
      "\n",
      " [[ 49.91  17.16 130.99 293.41  53.15  11.57]\n",
      "  [ 52.03  17.01 131.05 293.87  52.73  12.01]\n",
      "  [ 50.52  17.16 129.77 294.02  51.33  12.5 ]\n",
      "  [ 50.68  17.06 129.62 291.81  51.95  11.9 ]\n",
      "  [ 48.46  16.68 129.57 291.18  50.23  11.53]\n",
      "  [ 49.08  16.57 132.32 294.03  50.22  11.79]\n",
      "  [ 49.2   16.34 132.81 292.82  49.79  11.9 ]\n",
      "  [ 47.55  15.44 128.65 287.93  47.22  11.25]\n",
      "  [ 48.04  15.46 140.59 287.53  46.05  10.95]\n",
      "  [ 46.87  14.09 139.88 286.66  46.4   11.01]]] \n",
      "\n",
      "y sample values:\n",
      "[[292.82]\n",
      " [287.93]\n",
      " [287.53]\n",
      " [286.66]\n",
      " [288.1 ]]\n"
     ]
    }
   ],
   "source": [
    "window_size = 10\n",
    "\n",
    "feature_column = [1,2,4,6,9,10]\n",
    "target_column = 6\n",
    "X, y = window_data(all_close_prices[\"close\"], window_size, feature_column, target_column)\n",
    "print (f\"X sample values:\\n{X[:5]} \\n\")\n",
    "print (f\"y sample values:\\n{y[:5]}\")"
   ]
  },
  {
   "cell_type": "markdown",
   "metadata": {},
   "source": [
    "### Splitting Data Between Training & Testing Sets "
   ]
  },
  {
   "cell_type": "code",
   "execution_count": 55,
   "metadata": {},
   "outputs": [],
   "source": [
    "# Using .90 of the data for training \n",
    "split = int(0.9 * len(X))\n",
    "X_train = X[: split]\n",
    "X_test = X[split:]\n",
    "y_train = y[: split]\n",
    "y_test = y[split:]"
   ]
  },
  {
   "cell_type": "markdown",
   "metadata": {},
   "source": [
    "### Scaling the Data with MinMaxScaler"
   ]
  },
  {
   "cell_type": "code",
   "execution_count": 56,
   "metadata": {},
   "outputs": [],
   "source": [
    "# Scaling the data before training the LSTM model using MinMaxScaler from sklearn to scale all values\n",
    "from sklearn.preprocessing import MinMaxScaler\n",
    "scaler = MinMaxScaler()\n",
    "#Fit scaler to reshaped X_Train\n",
    "num_instances, num_time_steps, num_features = X_train.shape\n",
    "X_train_reshaped = np.reshape(X_train, newshape=(-1, num_features))\n",
    "scaler.fit(X_train_reshaped)\n",
    "#Scale and reshape X_train to original shape\n",
    "X_train_scaled = scaler.transform(X_train_reshaped)\n",
    "X_train_scaled = np.reshape(X_train_scaled, newshape=(num_instances, num_time_steps, num_features))\n",
    "#Scale and reshape X_test to original shape\n",
    "num_instances, num_time_steps, num_features = X_test.shape\n",
    "X_test_reshaped = np.reshape(X_test, newshape=(-1, num_features))\n",
    "X_test_scaled = scaler.transform(X_test_reshaped)\n",
    "X_test_scaled = np.reshape(X_test_scaled, newshape=(num_instances, num_time_steps, num_features))\n",
    "#Fit scaler to y_train\n",
    "scaler.fit(y_train)\n",
    "#Scale y_train\n",
    "y_train = scaler.transform(y_train)\n",
    "#Scale y_test\n",
    "y_test = scaler.transform(y_test)"
   ]
  },
  {
   "cell_type": "markdown",
   "metadata": {},
   "source": [
    "### Build & Train the LSTM RNN/Defining the LSTM RNN Model Structure"
   ]
  },
  {
   "cell_type": "code",
   "execution_count": 57,
   "metadata": {},
   "outputs": [],
   "source": [
    "# Build and Train LSTM RNN in Keeras and fit it using the training data defined above using Keras.\n",
    " # Import required Keras modules\n",
    "from tensorflow.keras.models import Sequential\n",
    "from tensorflow.keras.layers import LSTM, Dense, Dropout"
   ]
  },
  {
   "cell_type": "code",
   "execution_count": 58,
   "metadata": {},
   "outputs": [],
   "source": [
    "# Define the LSTM RNN model by adding layers\n",
    "# AND using the dropout layer to prevent overfitting. \n",
    "model = Sequential()\n",
    "\n",
    "number_units = 100\n",
    "dropout_fraction = 0.02 #Each epoch will randomly drop 20% of units to prevent overfitting.\n",
    "\n",
    "# Layer 1\n",
    "model.add(LSTM(\n",
    "    units=number_units,\n",
    "    return_sequences=True,\n",
    "    input_shape=(X_train.shape[1], 6))\n",
    "    )\n",
    "model.add(Dropout(dropout_fraction))\n",
    "# Layer 2\n",
    "model.add(LSTM(units=number_units, return_sequences=True))\n",
    "model.add(Dropout(dropout_fraction))\n",
    "# Layer 3\n",
    "model.add(LSTM(units=number_units))\n",
    "model.add(Dropout(dropout_fraction))\n",
    "# Output layer\n",
    "model.add(Dense(1))"
   ]
  },
  {
   "cell_type": "markdown",
   "metadata": {},
   "source": [
    "### Compiling, Summarizing, and Training the Model"
   ]
  },
  {
   "cell_type": "code",
   "execution_count": 59,
   "metadata": {},
   "outputs": [],
   "source": [
    "# Compiling model using adam optimizer and mean_square_error\n",
    "model.compile(optimizer=\"adam\", loss=\"mean_squared_error\")"
   ]
  },
  {
   "cell_type": "code",
   "execution_count": 60,
   "metadata": {},
   "outputs": [
    {
     "name": "stdout",
     "output_type": "stream",
     "text": [
      "Model: \"sequential_3\"\n",
      "_________________________________________________________________\n",
      " Layer (type)                Output Shape              Param #   \n",
      "=================================================================\n",
      " lstm_9 (LSTM)               (None, 10, 100)           42800     \n",
      "                                                                 \n",
      " dropout_9 (Dropout)         (None, 10, 100)           0         \n",
      "                                                                 \n",
      " lstm_10 (LSTM)              (None, 10, 100)           80400     \n",
      "                                                                 \n",
      " dropout_10 (Dropout)        (None, 10, 100)           0         \n",
      "                                                                 \n",
      " lstm_11 (LSTM)              (None, 100)               80400     \n",
      "                                                                 \n",
      " dropout_11 (Dropout)        (None, 100)               0         \n",
      "                                                                 \n",
      " dense_3 (Dense)             (None, 1)                 101       \n",
      "                                                                 \n",
      "=================================================================\n",
      "Total params: 203,701\n",
      "Trainable params: 203,701\n",
      "Non-trainable params: 0\n",
      "_________________________________________________________________\n"
     ]
    }
   ],
   "source": [
    "# Summarizing the model\n",
    "model.summary()"
   ]
  },
  {
   "cell_type": "code",
   "execution_count": 61,
   "metadata": {},
   "outputs": [
    {
     "name": "stdout",
     "output_type": "stream",
     "text": [
      "Epoch 1/50\n",
      "5/5 [==============================] - 9s 465ms/step - loss: 0.0795 - val_loss: 0.0742\n",
      "Epoch 2/50\n",
      "5/5 [==============================] - 0s 67ms/step - loss: 0.1181 - val_loss: 0.2657\n",
      "Epoch 3/50\n",
      "5/5 [==============================] - 0s 62ms/step - loss: 0.0504 - val_loss: 0.1865\n",
      "Epoch 4/50\n",
      "5/5 [==============================] - 0s 62ms/step - loss: 0.0426 - val_loss: 0.1191\n",
      "Epoch 5/50\n",
      "5/5 [==============================] - 0s 61ms/step - loss: 0.0546 - val_loss: 0.1513\n",
      "Epoch 6/50\n",
      "5/5 [==============================] - 0s 63ms/step - loss: 0.0450 - val_loss: 0.1504\n",
      "Epoch 7/50\n",
      "5/5 [==============================] - 0s 66ms/step - loss: 0.0363 - val_loss: 0.1051\n",
      "Epoch 8/50\n",
      "5/5 [==============================] - 0s 62ms/step - loss: 0.0446 - val_loss: 0.1204\n",
      "Epoch 9/50\n",
      "5/5 [==============================] - 0s 66ms/step - loss: 0.0435 - val_loss: 0.1510\n",
      "Epoch 10/50\n",
      "5/5 [==============================] - 0s 62ms/step - loss: 0.0325 - val_loss: 0.1185\n",
      "Epoch 11/50\n",
      "5/5 [==============================] - 0s 62ms/step - loss: 0.0352 - val_loss: 0.1123\n",
      "Epoch 12/50\n",
      "5/5 [==============================] - 0s 62ms/step - loss: 0.0309 - val_loss: 0.1034\n",
      "Epoch 13/50\n",
      "5/5 [==============================] - 0s 65ms/step - loss: 0.0246 - val_loss: 0.0815\n",
      "Epoch 14/50\n",
      "5/5 [==============================] - 0s 74ms/step - loss: 0.0241 - val_loss: 0.0686\n",
      "Epoch 15/50\n",
      "5/5 [==============================] - 0s 76ms/step - loss: 0.0206 - val_loss: 0.0683\n",
      "Epoch 16/50\n",
      "5/5 [==============================] - 0s 69ms/step - loss: 0.0109 - val_loss: 0.0336\n",
      "Epoch 17/50\n",
      "5/5 [==============================] - 0s 61ms/step - loss: 0.0089 - val_loss: 0.0093\n",
      "Epoch 18/50\n",
      "5/5 [==============================] - 0s 64ms/step - loss: 0.0132 - val_loss: 0.0093\n",
      "Epoch 19/50\n",
      "5/5 [==============================] - 0s 62ms/step - loss: 0.0205 - val_loss: 0.0413\n",
      "Epoch 20/50\n",
      "5/5 [==============================] - 0s 61ms/step - loss: 0.0225 - val_loss: 0.0302\n",
      "Epoch 21/50\n",
      "5/5 [==============================] - 0s 61ms/step - loss: 0.0350 - val_loss: 0.0025\n",
      "Epoch 22/50\n",
      "5/5 [==============================] - 0s 67ms/step - loss: 0.0743 - val_loss: 0.0463\n",
      "Epoch 23/50\n",
      "5/5 [==============================] - 0s 61ms/step - loss: 0.0352 - val_loss: 0.0380\n",
      "Epoch 24/50\n",
      "5/5 [==============================] - 0s 64ms/step - loss: 0.0202 - val_loss: 0.0116\n",
      "Epoch 25/50\n",
      "5/5 [==============================] - 0s 65ms/step - loss: 0.0347 - val_loss: 0.0312\n",
      "Epoch 26/50\n",
      "5/5 [==============================] - 1s 109ms/step - loss: 0.0212 - val_loss: 0.0265\n",
      "Epoch 27/50\n",
      "5/5 [==============================] - 0s 93ms/step - loss: 0.0105 - val_loss: 0.0041\n",
      "Epoch 28/50\n",
      "5/5 [==============================] - 0s 96ms/step - loss: 0.0147 - val_loss: 0.0050\n",
      "Epoch 29/50\n",
      "5/5 [==============================] - 0s 89ms/step - loss: 0.0059 - val_loss: 0.0042\n",
      "Epoch 30/50\n",
      "5/5 [==============================] - 0s 64ms/step - loss: 0.0063 - val_loss: 0.0049\n",
      "Epoch 31/50\n",
      "5/5 [==============================] - 0s 61ms/step - loss: 0.0039 - val_loss: 0.0045\n",
      "Epoch 32/50\n",
      "5/5 [==============================] - 0s 61ms/step - loss: 0.0035 - val_loss: 0.0090\n",
      "Epoch 33/50\n",
      "5/5 [==============================] - 0s 75ms/step - loss: 0.0025 - val_loss: 0.0064\n",
      "Epoch 34/50\n",
      "5/5 [==============================] - 0s 64ms/step - loss: 0.0023 - val_loss: 0.0054\n",
      "Epoch 35/50\n",
      "5/5 [==============================] - 0s 74ms/step - loss: 0.0024 - val_loss: 0.0060\n",
      "Epoch 36/50\n",
      "5/5 [==============================] - 1s 113ms/step - loss: 0.0021 - val_loss: 0.0048\n",
      "Epoch 37/50\n",
      "5/5 [==============================] - 1s 107ms/step - loss: 0.0023 - val_loss: 0.0047\n",
      "Epoch 38/50\n",
      "5/5 [==============================] - 0s 105ms/step - loss: 0.0028 - val_loss: 0.0058\n",
      "Epoch 39/50\n",
      "5/5 [==============================] - 1s 117ms/step - loss: 0.0025 - val_loss: 0.0073\n",
      "Epoch 40/50\n",
      "5/5 [==============================] - 1s 113ms/step - loss: 0.0030 - val_loss: 0.0046\n",
      "Epoch 41/50\n",
      "5/5 [==============================] - 0s 94ms/step - loss: 0.0032 - val_loss: 0.0048\n",
      "Epoch 42/50\n",
      "5/5 [==============================] - 0s 100ms/step - loss: 0.0073 - val_loss: 0.0051\n",
      "Epoch 43/50\n",
      "5/5 [==============================] - 0s 97ms/step - loss: 0.0048 - val_loss: 0.0095\n",
      "Epoch 44/50\n",
      "5/5 [==============================] - 0s 99ms/step - loss: 0.0060 - val_loss: 0.0041\n",
      "Epoch 45/50\n",
      "5/5 [==============================] - 0s 90ms/step - loss: 0.0056 - val_loss: 0.0040\n",
      "Epoch 46/50\n",
      "5/5 [==============================] - 1s 108ms/step - loss: 0.0083 - val_loss: 0.0103\n",
      "Epoch 47/50\n",
      "5/5 [==============================] - 0s 96ms/step - loss: 0.0021 - val_loss: 0.0043\n",
      "Epoch 48/50\n",
      "5/5 [==============================] - 0s 92ms/step - loss: 0.0029 - val_loss: 0.0095\n",
      "Epoch 49/50\n",
      "5/5 [==============================] - 0s 106ms/step - loss: 0.0030 - val_loss: 0.0070\n",
      "Epoch 50/50\n",
      "5/5 [==============================] - 1s 107ms/step - loss: 0.0023 - val_loss: 0.0045\n"
     ]
    },
    {
     "data": {
      "text/plain": [
       "<keras.callbacks.History at 0x20011f004c8>"
      ]
     },
     "execution_count": 61,
     "metadata": {},
     "output_type": "execute_result"
    }
   ],
   "source": [
    "# Since the model is now defined, it will be fit using 50 epochs. \n",
    "# Batch size will be set at 128. \n",
    "model.fit(X_train, y_train, epochs=50, shuffle=False, batch_size=128, verbose=1, validation_split=.1)"
   ]
  },
  {
   "cell_type": "markdown",
   "metadata": {},
   "source": [
    "### Model Performance"
   ]
  },
  {
   "cell_type": "code",
   "execution_count": 62,
   "metadata": {},
   "outputs": [
    {
     "name": "stdout",
     "output_type": "stream",
     "text": [
      "3/3 [==============================] - 0s 11ms/step - loss: 0.0108\n"
     ]
    },
    {
     "data": {
      "text/plain": [
       "0.01078278198838234"
      ]
     },
     "execution_count": 62,
     "metadata": {},
     "output_type": "execute_result"
    }
   ],
   "source": [
    "# Evaluating the model\n",
    "model.evaluate(X_test, y_test)"
   ]
  },
  {
   "cell_type": "code",
   "execution_count": 63,
   "metadata": {},
   "outputs": [
    {
     "name": "stdout",
     "output_type": "stream",
     "text": [
      "1/1 [==============================] - 2s 2s/step\n"
     ]
    },
    {
     "data": {
      "text/plain": [
       "array([[0.8912059 ],\n",
       "       [0.8935385 ],\n",
       "       [0.8954895 ],\n",
       "       [0.8973815 ],\n",
       "       [0.89963335],\n",
       "       [0.90217215],\n",
       "       [0.9071294 ],\n",
       "       [0.91408235],\n",
       "       [0.9220224 ],\n",
       "       [0.93074566],\n",
       "       [0.93881637],\n",
       "       [0.94525373],\n",
       "       [0.95120746],\n",
       "       [0.9557933 ],\n",
       "       [0.9571254 ],\n",
       "       [0.95460093],\n",
       "       [0.9471412 ],\n",
       "       [0.93917197],\n",
       "       [0.9318677 ],\n",
       "       [0.92573243],\n",
       "       [0.92135435],\n",
       "       [0.9191923 ],\n",
       "       [0.9188983 ],\n",
       "       [0.919316  ],\n",
       "       [0.9211044 ],\n",
       "       [0.92420447],\n",
       "       [0.92863303],\n",
       "       [0.93341506],\n",
       "       [0.9371998 ],\n",
       "       [0.9390262 ],\n",
       "       [0.93923223],\n",
       "       [0.9399515 ],\n",
       "       [0.94176704],\n",
       "       [0.9429007 ],\n",
       "       [0.9428414 ],\n",
       "       [0.9414862 ],\n",
       "       [0.9378982 ],\n",
       "       [0.9336097 ],\n",
       "       [0.93085325],\n",
       "       [0.92852   ],\n",
       "       [0.9250522 ],\n",
       "       [0.91795903],\n",
       "       [0.9099758 ],\n",
       "       [0.900634  ],\n",
       "       [0.887932  ],\n",
       "       [0.8753255 ],\n",
       "       [0.867145  ],\n",
       "       [0.8457165 ],\n",
       "       [0.787518  ],\n",
       "       [0.7285086 ],\n",
       "       [0.6937602 ],\n",
       "       [0.6781579 ],\n",
       "       [0.6725511 ],\n",
       "       [0.6767985 ],\n",
       "       [0.68556195],\n",
       "       [0.6968315 ],\n",
       "       [0.7019265 ],\n",
       "       [0.7113312 ],\n",
       "       [0.7258529 ],\n",
       "       [0.7475996 ],\n",
       "       [0.77666956],\n",
       "       [0.8361396 ],\n",
       "       [0.8785416 ],\n",
       "       [0.9018732 ],\n",
       "       [0.93950135],\n",
       "       [0.94958764],\n",
       "       [0.95229536],\n",
       "       [0.9356293 ],\n",
       "       [0.9062127 ],\n",
       "       [0.85975033],\n",
       "       [0.80958027],\n",
       "       [0.769909  ],\n",
       "       [0.7377302 ],\n",
       "       [0.7156821 ],\n",
       "       [0.69982946]], dtype=float32)"
      ]
     },
     "execution_count": 63,
     "metadata": {},
     "output_type": "execute_result"
    }
   ],
   "source": [
    "# Make predictions\n",
    "predicted = model.predict(X_test, batch_size=128)\n",
    "predicted"
   ]
  },
  {
   "cell_type": "markdown",
   "metadata": {},
   "source": [
    "### Plotting Predicted Vs. Real Prices"
   ]
  },
  {
   "cell_type": "code",
   "execution_count": 64,
   "metadata": {},
   "outputs": [
    {
     "data": {
      "text/html": [
       "<div>\n",
       "<style scoped>\n",
       "    .dataframe tbody tr th:only-of-type {\n",
       "        vertical-align: middle;\n",
       "    }\n",
       "\n",
       "    .dataframe tbody tr th {\n",
       "        vertical-align: top;\n",
       "    }\n",
       "\n",
       "    .dataframe thead th {\n",
       "        text-align: right;\n",
       "    }\n",
       "</style>\n",
       "<table border=\"1\" class=\"dataframe\">\n",
       "  <thead>\n",
       "    <tr style=\"text-align: right;\">\n",
       "      <th></th>\n",
       "      <th>Real</th>\n",
       "      <th>Predicted</th>\n",
       "    </tr>\n",
       "    <tr>\n",
       "      <th>date</th>\n",
       "      <th></th>\n",
       "      <th></th>\n",
       "    </tr>\n",
       "  </thead>\n",
       "  <tbody>\n",
       "    <tr>\n",
       "      <th>2022-01-03</th>\n",
       "      <td>1.000904</td>\n",
       "      <td>0.891206</td>\n",
       "    </tr>\n",
       "    <tr>\n",
       "      <th>2022-01-04</th>\n",
       "      <td>1.000275</td>\n",
       "      <td>0.893538</td>\n",
       "    </tr>\n",
       "    <tr>\n",
       "      <th>2022-01-05</th>\n",
       "      <td>0.964248</td>\n",
       "      <td>0.895490</td>\n",
       "    </tr>\n",
       "    <tr>\n",
       "      <th>2022-01-06</th>\n",
       "      <td>0.962519</td>\n",
       "      <td>0.897381</td>\n",
       "    </tr>\n",
       "    <tr>\n",
       "      <th>2022-01-07</th>\n",
       "      <td>0.955251</td>\n",
       "      <td>0.899633</td>\n",
       "    </tr>\n",
       "  </tbody>\n",
       "</table>\n",
       "</div>"
      ],
      "text/plain": [
       "                Real  Predicted\n",
       "date                           \n",
       "2022-01-03  1.000904   0.891206\n",
       "2022-01-04  1.000275   0.893538\n",
       "2022-01-05  0.964248   0.895490\n",
       "2022-01-06  0.962519   0.897381\n",
       "2022-01-07  0.955251   0.899633"
      ]
     },
     "execution_count": 64,
     "metadata": {},
     "output_type": "execute_result"
    }
   ],
   "source": [
    "# Create a DataFrame of Real and Predicted values\n",
    "df_values = pd.DataFrame({\n",
    "    \"Real\": y_test.ravel(),\n",
    "    \"Predicted\": predicted.ravel()\n",
    "    }, index = df_stocks.index[-len(y_test): ])\n",
    "df_values.head()"
   ]
  },
  {
   "cell_type": "code",
   "execution_count": 65,
   "metadata": {},
   "outputs": [
    {
     "data": {
      "text/plain": [
       "<AxesSubplot:xlabel='date'>"
      ]
     },
     "execution_count": 65,
     "metadata": {},
     "output_type": "execute_result"
    },
    {
     "data": {
      "image/png": "[encoded data removed]",
      "text/plain": [
       "<Figure size 432x288 with 1 Axes>"
      ]
     },
     "metadata": {
      "needs_background": "light"
     },
     "output_type": "display_data"
    }
   ],
   "source": [
    "# PLotting real prices vs. predicted\n",
    "df_values.plot(kind =\"line\")"
   ]
  }
 ],
 "metadata": {
  "kernelspec": {
   "display_name": "Python 3.7.11 ('dev')",
   "language": "python",
   "name": "python3"
  },
  "language_info": {
   "codemirror_mode": {
    "name": "ipython",
    "version": 3
   },
   "file_extension": ".py",
   "mimetype": "text/x-python",
   "name": "python",
   "nbconvert_exporter": "python",
   "pygments_lexer": "ipython3",
   "version": "3.7.11"
  },
  "orig_nbformat": 4,
  "vscode": {
   "interpreter": {
    "hash": "03db2e40baedd816844418f8022bfa5231b95c4473a61732e59e58f921326353"
   }
  }
 },
 "nbformat": 4,
 "nbformat_minor": 2
}
